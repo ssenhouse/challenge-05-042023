{
 "cells": [
  {
   "cell_type": "markdown",
   "metadata": {},
   "source": [
    "# Financial Planning with APIs and Simulations\n",
    "\n",
    "In this Challenge, you’ll create two financial analysis tools by using a single Jupyter notebook:\n",
    "\n",
    "Part 1: A financial planner for emergencies. The members will be able to use this tool to visualize their current savings. The members can then determine if they have enough reserves for an emergency fund.\n",
    "\n",
    "Part 2: A financial planner for retirement. This tool will forecast the performance of their retirement portfolio in 30 years. To do this, the tool will make an Alpaca API call via the Alpaca SDK to get historical price data for use in Monte Carlo simulations.\n",
    "\n",
    "You’ll use the information from the Monte Carlo simulation to answer questions about the portfolio in your Jupyter notebook.\n",
    "\n"
   ]
  },
  {
   "cell_type": "code",
   "execution_count": 1,
   "metadata": {},
   "outputs": [],
   "source": [
    "# Import the required libraries and dependencies\n",
    "import os\n",
    "import requests\n",
    "import json\n",
    "import pandas as pd\n",
    "from dotenv import load_dotenv\n",
    "import alpaca_trade_api as tradeapi\n",
    "from MCForecastTools import MCSimulation\n",
    "\n",
    "%matplotlib inline"
   ]
  },
  {
   "cell_type": "code",
   "execution_count": 2,
   "metadata": {},
   "outputs": [
    {
     "data": {
      "text/plain": [
       "True"
      ]
     },
     "execution_count": 2,
     "metadata": {},
     "output_type": "execute_result"
    }
   ],
   "source": [
    "# Load the environment variables from the .env file\n",
    "#by calling the load_dotenv function\n",
    "load_dotenv()"
   ]
  },
  {
   "cell_type": "markdown",
   "metadata": {},
   "source": [
    "## Part 1: Create a Financial Planner for Emergencies"
   ]
  },
  {
   "cell_type": "markdown",
   "metadata": {},
   "source": [
    "### Evaluate the Cryptocurrency Wallet by Using the Requests Library\n",
    "\n",
    "In this section, you’ll determine the current value of a member’s cryptocurrency wallet. You’ll collect the current prices for the Bitcoin and Ethereum cryptocurrencies by using the Python Requests library. For the prototype, you’ll assume that the member holds the 1.2 Bitcoins (BTC) and 5.3 Ethereum coins (ETH). To do all this, complete the following steps:\n",
    "\n",
    "1. Create a variable named `monthly_income`, and set its value to `12000`.\n",
    "\n",
    "2. Use the Requests library to get the current price (in US dollars) of Bitcoin (BTC) and Ethereum (ETH) by using the API endpoints that the starter code supplies.\n",
    "\n",
    "3. Navigate the JSON response object to access the current price of each coin, and store each in a variable.\n",
    "\n",
    "    > **Hint** Note the specific identifier for each cryptocurrency in the API JSON response. The Bitcoin identifier is `1`, and the Ethereum identifier is `1027`.\n",
    "\n",
    "4. Calculate the value, in US dollars, of the current amount of each cryptocurrency and of the entire cryptocurrency wallet.\n",
    "\n"
   ]
  },
  {
   "cell_type": "code",
   "execution_count": 3,
   "metadata": {},
   "outputs": [],
   "source": [
    "# The current number of coins for each cryptocurrency asset held in the portfolio.\n",
    "btc_coins = 1.2\n",
    "eth_coins = 5.3"
   ]
  },
  {
   "cell_type": "markdown",
   "metadata": {},
   "source": [
    "#### Step 1: Create a variable named `monthly_income`, and set its value to `12000`."
   ]
  },
  {
   "cell_type": "code",
   "execution_count": 4,
   "metadata": {},
   "outputs": [],
   "source": [
    "# The monthly amount for the member's household income\n",
    "# YOUR CODE HERE\n",
    "monthly_income = 12000"
   ]
  },
  {
   "cell_type": "markdown",
   "metadata": {},
   "source": [
    "#### Review the endpoint URLs for the API calls to Free Crypto API in order to get the current pricing information for both BTC and ETH."
   ]
  },
  {
   "cell_type": "code",
   "execution_count": 5,
   "metadata": {},
   "outputs": [],
   "source": [
    "# The Free Crypto API Call endpoint URLs for the held cryptocurrency assets\n",
    "btc_url = \"https://api.alternative.me/v2/ticker/Bitcoin/?convert=USD\"\n",
    "eth_url = \"https://api.alternative.me/v2/ticker/Ethereum/?convert=USD\""
   ]
  },
  {
   "cell_type": "markdown",
   "metadata": {},
   "source": [
    "#### Step 2. Use the Requests library to get the current price (in US dollars) of Bitcoin (BTC) and Ethereum (ETH) by using the API endpoints that the starter code supplied."
   ]
  },
  {
   "cell_type": "code",
   "execution_count": 6,
   "metadata": {},
   "outputs": [
    {
     "name": "stdout",
     "output_type": "stream",
     "text": [
      "{\n",
      "    \"data\": {\n",
      "        \"1\": {\n",
      "            \"circulating_supply\": 19348250,\n",
      "            \"id\": 1,\n",
      "            \"last_updated\": 1681696486,\n",
      "            \"max_supply\": 21000000,\n",
      "            \"name\": \"Bitcoin\",\n",
      "            \"quotes\": {\n",
      "                \"USD\": {\n",
      "                    \"market_cap\": 579874178080,\n",
      "                    \"percent_change_1h\": 0.374448359790761,\n",
      "                    \"percent_change_24h\": -1.03798395281692,\n",
      "                    \"percent_change_7d\": 5.66477303675368,\n",
      "                    \"percentage_change_1h\": 0.374448359790761,\n",
      "                    \"percentage_change_24h\": -1.03798395281692,\n",
      "                    \"percentage_change_7d\": 5.66477303675368,\n",
      "                    \"price\": 29957.0,\n",
      "                    \"volume_24h\": 12750883960\n",
      "                }\n",
      "            },\n",
      "            \"rank\": 1,\n",
      "            \"symbol\": \"BTC\",\n",
      "            \"total_supply\": 19348250,\n",
      "            \"website_slug\": \"bitcoin\"\n",
      "        }\n",
      "    },\n",
      "    \"metadata\": {\n",
      "        \"error\": null,\n",
      "        \"num_cryptocurrencies\": 3119,\n",
      "        \"timestamp\": 1681696486\n",
      "    }\n",
      "}\n"
     ]
    }
   ],
   "source": [
    "# Using the Python requests library, make an API call to access the current price of BTC\n",
    "btc_response = requests.get(btc_url).json()\n",
    "\n",
    "# Use the json.dumps function to review the response data from the API call\n",
    "# Use the indent and sort_keys parameters to make the response object readable\n",
    "print(json.dumps(btc_response, indent =4, sort_keys =True))"
   ]
  },
  {
   "cell_type": "code",
   "execution_count": 7,
   "metadata": {},
   "outputs": [
    {
     "name": "stdout",
     "output_type": "stream",
     "text": [
      "{\n",
      "    \"data\": {\n",
      "        \"1027\": {\n",
      "            \"circulating_supply\": 119716878,\n",
      "            \"id\": 1027,\n",
      "            \"last_updated\": 1681696486,\n",
      "            \"max_supply\": 119434715,\n",
      "            \"name\": \"Ethereum\",\n",
      "            \"quotes\": {\n",
      "                \"USD\": {\n",
      "                    \"market_cap\": 250680281702,\n",
      "                    \"percent_change_1h\": 0.480116809455997,\n",
      "                    \"percent_change_24h\": 0.0585516363451501,\n",
      "                    \"percent_change_7d\": 12.5018964382842,\n",
      "                    \"percentage_change_1h\": 0.480116809455997,\n",
      "                    \"percentage_change_24h\": 0.0585516363451501,\n",
      "                    \"percentage_change_7d\": 12.5018964382842,\n",
      "                    \"price\": 2092.47,\n",
      "                    \"volume_24h\": 9589187273\n",
      "                }\n",
      "            },\n",
      "            \"rank\": 2,\n",
      "            \"symbol\": \"ETH\",\n",
      "            \"total_supply\": 119716878,\n",
      "            \"website_slug\": \"ethereum\"\n",
      "        }\n",
      "    },\n",
      "    \"metadata\": {\n",
      "        \"error\": null,\n",
      "        \"num_cryptocurrencies\": 3119,\n",
      "        \"timestamp\": 1681696486\n",
      "    }\n",
      "}\n"
     ]
    }
   ],
   "source": [
    "# Using the Python requests library, make an API call to access the current price ETH\n",
    "eth_response = requests.get(eth_url).json()\n",
    "\n",
    "# Use the json.dumps function to review the response data from the API call\n",
    "# Use the indent and sort_keys parameters to make the response object readable\n",
    "print(json.dumps(eth_response, indent =4, sort_keys =True))"
   ]
  },
  {
   "cell_type": "markdown",
   "metadata": {},
   "source": [
    "#### Step 3: Navigate the JSON response object to access the current price of each coin, and store each in a variable."
   ]
  },
  {
   "cell_type": "code",
   "execution_count": 8,
   "metadata": {},
   "outputs": [
    {
     "name": "stdout",
     "output_type": "stream",
     "text": [
      "The price for BTC is $29,957.00\n"
     ]
    }
   ],
   "source": [
    "# Navigate the BTC response object to access the current price of BTC\n",
    "btc_price = btc_response['data']['1']['quotes']['USD']['price']\n",
    "                \n",
    "\n",
    "# Print the current price of BTC\n",
    "print(f\"The price for BTC is ${btc_price:,.2f}\")\n"
   ]
  },
  {
   "cell_type": "code",
   "execution_count": 9,
   "metadata": {},
   "outputs": [
    {
     "name": "stdout",
     "output_type": "stream",
     "text": [
      "The price for ETH is $2,092.47\n"
     ]
    }
   ],
   "source": [
    "# Navigate the BTC response object to access the current price of ETH\n",
    "eth_price = eth_response['data']['1027']['quotes']['USD']['price']\n",
    "# Print the current price of ETH\n",
    "print(f\"The price for ETH is ${eth_price:,.2f}\")\n"
   ]
  },
  {
   "cell_type": "markdown",
   "metadata": {},
   "source": [
    "### Step 4: Calculate the value, in US dollars, of the current amount of each cryptocurrency and of the entire cryptocurrency wallet."
   ]
  },
  {
   "cell_type": "code",
   "execution_count": 10,
   "metadata": {},
   "outputs": [
    {
     "name": "stdout",
     "output_type": "stream",
     "text": [
      "The value of BTC holdings is $35,948.40\n"
     ]
    }
   ],
   "source": [
    "# Compute the current value of the BTC holding \n",
    "btc_value = btc_coins * btc_price\n",
    "\n",
    "# Print current value of your holding in BTC\n",
    "print(f\"The value of BTC holdings is ${btc_value:,.2f}\")\n"
   ]
  },
  {
   "cell_type": "code",
   "execution_count": 11,
   "metadata": {},
   "outputs": [
    {
     "name": "stdout",
     "output_type": "stream",
     "text": [
      "The value of BTC holdings is $11,090.09\n"
     ]
    }
   ],
   "source": [
    "# Compute the current value of the ETH holding \n",
    "eth_value = eth_coins * eth_price\n",
    "\n",
    "# Print current value of your holding in ETH\n",
    "print(f\"The value of BTC holdings is ${eth_value:,.2f}\")\n"
   ]
  },
  {
   "cell_type": "code",
   "execution_count": 12,
   "metadata": {},
   "outputs": [
    {
     "name": "stdout",
     "output_type": "stream",
     "text": [
      "The value of the wallet is $47038.491\n"
     ]
    }
   ],
   "source": [
    "# Compute the total value of the cryptocurrency wallet\n",
    "# Add the value of the BTC holding to the value of the ETH holding\n",
    "total_crypto_wallet = btc_value + eth_value\n",
    "\n",
    "# Print current cryptocurrency wallet balance\n",
    "print(f\"The value of the wallet is ${total_crypto_wallet:,.2f}\")\n"
   ]
  },
  {
   "cell_type": "markdown",
   "metadata": {},
   "source": [
    "### Evaluate the Stock and Bond Holdings by Using the Alpaca SDK\n",
    "\n",
    "In this section, you’ll determine the current value of a member’s stock and bond holdings. You’ll make an API call to Alpaca via the Alpaca SDK to get the current closing prices of the SPDR S&P 500 ETF Trust (ticker: SPY) and of the iShares Core US Aggregate Bond ETF (ticker: AGG). For the prototype, assume that the member holds 110 shares of SPY, which represents the stock portion of their portfolio, and 200 shares of AGG, which represents the bond portion. To do all this, complete the following steps:\n",
    "\n",
    "1. In the `Starter_Code` folder, create an environment file (`.env`) to store the values of your Alpaca API key and Alpaca secret key.\n",
    "\n",
    "2. Set the variables for the Alpaca API and secret keys. Using the Alpaca SDK, create the Alpaca `tradeapi.REST` object. In this object, include the parameters for the Alpaca API key, the secret key, and the version number.\n",
    "\n",
    "3. Set the following parameters for the Alpaca API call:\n",
    "\n",
    "    - `tickers`: Use the tickers for the member’s stock and bond holdings.\n",
    "\n",
    "    - `timeframe`: Use a time frame of one day.\n",
    "\n",
    "    - `start_date` and `end_date`: Use the same date for these parameters, and format them with the date of the previous weekday (or `2020-08-07`). This is because you want the one closing price for the most-recent trading day.\n",
    "\n",
    "4. Get the current closing prices for `SPY` and `AGG` by using the Alpaca `get_bars` function. Format the response as a Pandas DataFrame by including the `df` property at the end of the `get_bars` function.\n",
    "\n",
    "5. Navigating the Alpaca response DataFrame, select the `SPY` and `AGG` closing prices, and store them as variables.\n",
    "\n",
    "6. Calculate the value, in US dollars, of the current amount of shares in each of the stock and bond portions of the portfolio, and print the results.\n"
   ]
  },
  {
   "cell_type": "markdown",
   "metadata": {},
   "source": [
    "#### Review the total number of shares held in both (SPY) and (AGG)."
   ]
  },
  {
   "cell_type": "code",
   "execution_count": 13,
   "metadata": {},
   "outputs": [],
   "source": [
    "# Current amount of shares held in both the stock (SPY) and bond (AGG) portion of the portfolio.\n",
    "spy_shares = 110\n",
    "agg_shares = 200\n"
   ]
  },
  {
   "cell_type": "markdown",
   "metadata": {},
   "source": [
    "#### Step 1: In the `Starter_Code` folder, create an environment file (`.env`) to store the values of your Alpaca API key and Alpaca secret key."
   ]
  },
  {
   "cell_type": "markdown",
   "metadata": {},
   "source": [
    "#### Step 2: Set the variables for the Alpaca API and secret keys. Using the Alpaca SDK, create the Alpaca `tradeapi.REST` object. In this object, include the parameters for the Alpaca API key, the secret key, and the version number."
   ]
  },
  {
   "cell_type": "code",
   "execution_count": 14,
   "metadata": {},
   "outputs": [
    {
     "name": "stdout",
     "output_type": "stream",
     "text": [
      "<class 'str'>\n",
      "<class 'str'>\n",
      "<class 'str'>\n"
     ]
    }
   ],
   "source": [
    "# Set the variables for the Alpaca API and secret keys\n",
    "#Load in all API keys \n",
    "alpaca_api_key = os.getenv(\"ALPACA_API_KEY\")\n",
    "alpaca_secrect_key = os.getenv(\"ALPACA_SECRECT_KEY\")\n",
    "nasdaq_api_key = os.getenv(\"NASDAQ_API_KEY\")\n",
    "\n",
    "# Create the Alpaca tradeapi.REST object\n",
    "alpaca = tradeapi.REST(\n",
    "    alpaca_api_key,\n",
    "    alpaca_secrect_key,\n",
    "    api_version=\"v2\")\n",
    "\n",
    "#Test that API are loaded correctly\n",
    "print(f\"{type(alpaca_api_key)}\")\n",
    "print(f\"{type(alpaca_secrect_key)}\")\n",
    "print(f\"{type(nasdaq_api_key)}\")"
   ]
  },
  {
   "cell_type": "markdown",
   "metadata": {},
   "source": [
    "#### Step 3: Set the following parameters for the Alpaca API call:\n",
    "\n",
    "- `tickers`: Use the tickers for the member’s stock and bond holdings.\n",
    "\n",
    "- `timeframe`: Use a time frame of one day.\n",
    "\n",
    "- `start_date` and `end_date`: Use the same date for these parameters, and format them with the date of the previous weekday (or `2020-08-07`). This is because you want the one closing price for the most-recent trading day.\n"
   ]
  },
  {
   "cell_type": "code",
   "execution_count": 15,
   "metadata": {},
   "outputs": [],
   "source": [
    "# Set the tickers for both the bond and stock portion of the portfolio\n",
    "tickers= [\"SPY\",\"AGG\"]\n",
    "\n",
    "# Set timeframe to 1Day\n",
    "timeframe = \"1Day\"\n",
    "\n",
    "# Format current date as ISO format\n",
    "# Set both the start and end date at the date of your prior weekday \n",
    "# This will give you the closing price of the previous trading day\n",
    "# Alternatively you can use a start and end date of 2020-08-07\n",
    "start_date = pd.Timestamp(\"2023-04-13\",tz=\"America/New_York\").isoformat()\n",
    "end_date = pd.Timestamp(\"2023-04-13\",tz= \"America/New_York\").isoformat()\n"
   ]
  },
  {
   "cell_type": "markdown",
   "metadata": {},
   "source": [
    "#### Step 4: Get the current closing prices for `SPY` and `AGG` by using the Alpaca `get_bars` function. Format the response as a Pandas DataFrame by including the `df` property at the end of the `get_bars` function."
   ]
  },
  {
   "cell_type": "code",
   "execution_count": 16,
   "metadata": {},
   "outputs": [
    {
     "data": {
      "text/html": [
       "<div>\n",
       "<style scoped>\n",
       "    .dataframe tbody tr th:only-of-type {\n",
       "        vertical-align: middle;\n",
       "    }\n",
       "\n",
       "    .dataframe tbody tr th {\n",
       "        vertical-align: top;\n",
       "    }\n",
       "\n",
       "    .dataframe thead tr th {\n",
       "        text-align: left;\n",
       "    }\n",
       "\n",
       "    .dataframe thead tr:last-of-type th {\n",
       "        text-align: right;\n",
       "    }\n",
       "</style>\n",
       "<table border=\"1\" class=\"dataframe\">\n",
       "  <thead>\n",
       "    <tr>\n",
       "      <th></th>\n",
       "      <th colspan=\"7\" halign=\"left\">SPY</th>\n",
       "      <th colspan=\"7\" halign=\"left\">AGG</th>\n",
       "    </tr>\n",
       "    <tr>\n",
       "      <th></th>\n",
       "      <th>open</th>\n",
       "      <th>high</th>\n",
       "      <th>low</th>\n",
       "      <th>close</th>\n",
       "      <th>volume</th>\n",
       "      <th>trade_count</th>\n",
       "      <th>vwap</th>\n",
       "      <th>open</th>\n",
       "      <th>high</th>\n",
       "      <th>low</th>\n",
       "      <th>close</th>\n",
       "      <th>volume</th>\n",
       "      <th>trade_count</th>\n",
       "      <th>vwap</th>\n",
       "    </tr>\n",
       "    <tr>\n",
       "      <th>timestamp</th>\n",
       "      <th></th>\n",
       "      <th></th>\n",
       "      <th></th>\n",
       "      <th></th>\n",
       "      <th></th>\n",
       "      <th></th>\n",
       "      <th></th>\n",
       "      <th></th>\n",
       "      <th></th>\n",
       "      <th></th>\n",
       "      <th></th>\n",
       "      <th></th>\n",
       "      <th></th>\n",
       "      <th></th>\n",
       "    </tr>\n",
       "  </thead>\n",
       "  <tbody>\n",
       "    <tr>\n",
       "      <th>2020-04-13 04:00:00+00:00</th>\n",
       "      <td>277.14</td>\n",
       "      <td>277.5100</td>\n",
       "      <td>271.4100</td>\n",
       "      <td>275.63</td>\n",
       "      <td>114868253</td>\n",
       "      <td>752225</td>\n",
       "      <td>274.512847</td>\n",
       "      <td>117.09</td>\n",
       "      <td>117.1700</td>\n",
       "      <td>116.5308</td>\n",
       "      <td>116.70</td>\n",
       "      <td>5738262</td>\n",
       "      <td>24812</td>\n",
       "      <td>116.845817</td>\n",
       "    </tr>\n",
       "    <tr>\n",
       "      <th>2020-04-14 04:00:00+00:00</th>\n",
       "      <td>280.98</td>\n",
       "      <td>284.9000</td>\n",
       "      <td>275.5106</td>\n",
       "      <td>283.80</td>\n",
       "      <td>134143470</td>\n",
       "      <td>761246</td>\n",
       "      <td>282.089774</td>\n",
       "      <td>116.99</td>\n",
       "      <td>117.0000</td>\n",
       "      <td>116.5850</td>\n",
       "      <td>116.76</td>\n",
       "      <td>5506671</td>\n",
       "      <td>23102</td>\n",
       "      <td>116.766750</td>\n",
       "    </tr>\n",
       "    <tr>\n",
       "      <th>2020-04-15 04:00:00+00:00</th>\n",
       "      <td>277.57</td>\n",
       "      <td>283.9407</td>\n",
       "      <td>275.4600</td>\n",
       "      <td>277.75</td>\n",
       "      <td>121779042</td>\n",
       "      <td>711140</td>\n",
       "      <td>277.826041</td>\n",
       "      <td>117.03</td>\n",
       "      <td>117.3050</td>\n",
       "      <td>116.7100</td>\n",
       "      <td>117.24</td>\n",
       "      <td>4367410</td>\n",
       "      <td>19620</td>\n",
       "      <td>117.144915</td>\n",
       "    </tr>\n",
       "    <tr>\n",
       "      <th>2020-04-16 04:00:00+00:00</th>\n",
       "      <td>279.15</td>\n",
       "      <td>280.0300</td>\n",
       "      <td>275.7600</td>\n",
       "      <td>278.96</td>\n",
       "      <td>132398585</td>\n",
       "      <td>748801</td>\n",
       "      <td>278.840675</td>\n",
       "      <td>117.19</td>\n",
       "      <td>117.5250</td>\n",
       "      <td>117.1900</td>\n",
       "      <td>117.39</td>\n",
       "      <td>4744716</td>\n",
       "      <td>16906</td>\n",
       "      <td>117.399687</td>\n",
       "    </tr>\n",
       "    <tr>\n",
       "      <th>2020-04-17 04:00:00+00:00</th>\n",
       "      <td>285.38</td>\n",
       "      <td>287.3000</td>\n",
       "      <td>282.4000</td>\n",
       "      <td>286.54</td>\n",
       "      <td>146685294</td>\n",
       "      <td>699788</td>\n",
       "      <td>284.307868</td>\n",
       "      <td>117.52</td>\n",
       "      <td>117.6200</td>\n",
       "      <td>117.0350</td>\n",
       "      <td>117.25</td>\n",
       "      <td>4949824</td>\n",
       "      <td>25621</td>\n",
       "      <td>117.358347</td>\n",
       "    </tr>\n",
       "    <tr>\n",
       "      <th>2023-04-06 04:00:00+00:00</th>\n",
       "      <td>406.77</td>\n",
       "      <td>409.4800</td>\n",
       "      <td>405.6780</td>\n",
       "      <td>409.19</td>\n",
       "      <td>63743345</td>\n",
       "      <td>482110</td>\n",
       "      <td>408.101856</td>\n",
       "      <td>100.56</td>\n",
       "      <td>100.6850</td>\n",
       "      <td>100.4400</td>\n",
       "      <td>100.44</td>\n",
       "      <td>6105185</td>\n",
       "      <td>23351</td>\n",
       "      <td>100.515057</td>\n",
       "    </tr>\n",
       "    <tr>\n",
       "      <th>2023-04-10 04:00:00+00:00</th>\n",
       "      <td>406.61</td>\n",
       "      <td>409.6900</td>\n",
       "      <td>405.9700</td>\n",
       "      <td>409.61</td>\n",
       "      <td>63693219</td>\n",
       "      <td>468483</td>\n",
       "      <td>408.081412</td>\n",
       "      <td>99.89</td>\n",
       "      <td>99.9100</td>\n",
       "      <td>99.6000</td>\n",
       "      <td>99.75</td>\n",
       "      <td>4477958</td>\n",
       "      <td>21431</td>\n",
       "      <td>99.752952</td>\n",
       "    </tr>\n",
       "    <tr>\n",
       "      <th>2023-04-11 04:00:00+00:00</th>\n",
       "      <td>410.26</td>\n",
       "      <td>411.1800</td>\n",
       "      <td>408.9200</td>\n",
       "      <td>409.72</td>\n",
       "      <td>59316777</td>\n",
       "      <td>403316</td>\n",
       "      <td>410.018650</td>\n",
       "      <td>99.81</td>\n",
       "      <td>99.8800</td>\n",
       "      <td>99.5900</td>\n",
       "      <td>99.81</td>\n",
       "      <td>4543803</td>\n",
       "      <td>19479</td>\n",
       "      <td>99.740336</td>\n",
       "    </tr>\n",
       "    <tr>\n",
       "      <th>2023-04-12 04:00:00+00:00</th>\n",
       "      <td>411.87</td>\n",
       "      <td>412.1700</td>\n",
       "      <td>407.4400</td>\n",
       "      <td>408.05</td>\n",
       "      <td>86440377</td>\n",
       "      <td>639926</td>\n",
       "      <td>409.706051</td>\n",
       "      <td>100.17</td>\n",
       "      <td>100.2000</td>\n",
       "      <td>99.6100</td>\n",
       "      <td>99.93</td>\n",
       "      <td>7226122</td>\n",
       "      <td>33545</td>\n",
       "      <td>99.885733</td>\n",
       "    </tr>\n",
       "    <tr>\n",
       "      <th>2023-04-13 04:00:00+00:00</th>\n",
       "      <td>409.18</td>\n",
       "      <td>413.8400</td>\n",
       "      <td>407.9922</td>\n",
       "      <td>413.47</td>\n",
       "      <td>85814754</td>\n",
       "      <td>566796</td>\n",
       "      <td>411.717306</td>\n",
       "      <td>100.16</td>\n",
       "      <td>100.2677</td>\n",
       "      <td>99.8050</td>\n",
       "      <td>99.89</td>\n",
       "      <td>3964799</td>\n",
       "      <td>18405</td>\n",
       "      <td>99.967812</td>\n",
       "    </tr>\n",
       "  </tbody>\n",
       "</table>\n",
       "</div>"
      ],
      "text/plain": [
       "                              SPY                                         \\\n",
       "                             open      high       low   close     volume   \n",
       "timestamp                                                                  \n",
       "2020-04-13 04:00:00+00:00  277.14  277.5100  271.4100  275.63  114868253   \n",
       "2020-04-14 04:00:00+00:00  280.98  284.9000  275.5106  283.80  134143470   \n",
       "2020-04-15 04:00:00+00:00  277.57  283.9407  275.4600  277.75  121779042   \n",
       "2020-04-16 04:00:00+00:00  279.15  280.0300  275.7600  278.96  132398585   \n",
       "2020-04-17 04:00:00+00:00  285.38  287.3000  282.4000  286.54  146685294   \n",
       "2023-04-06 04:00:00+00:00  406.77  409.4800  405.6780  409.19   63743345   \n",
       "2023-04-10 04:00:00+00:00  406.61  409.6900  405.9700  409.61   63693219   \n",
       "2023-04-11 04:00:00+00:00  410.26  411.1800  408.9200  409.72   59316777   \n",
       "2023-04-12 04:00:00+00:00  411.87  412.1700  407.4400  408.05   86440377   \n",
       "2023-04-13 04:00:00+00:00  409.18  413.8400  407.9922  413.47   85814754   \n",
       "\n",
       "                                                      AGG                      \\\n",
       "                          trade_count        vwap    open      high       low   \n",
       "timestamp                                                                       \n",
       "2020-04-13 04:00:00+00:00      752225  274.512847  117.09  117.1700  116.5308   \n",
       "2020-04-14 04:00:00+00:00      761246  282.089774  116.99  117.0000  116.5850   \n",
       "2020-04-15 04:00:00+00:00      711140  277.826041  117.03  117.3050  116.7100   \n",
       "2020-04-16 04:00:00+00:00      748801  278.840675  117.19  117.5250  117.1900   \n",
       "2020-04-17 04:00:00+00:00      699788  284.307868  117.52  117.6200  117.0350   \n",
       "2023-04-06 04:00:00+00:00      482110  408.101856  100.56  100.6850  100.4400   \n",
       "2023-04-10 04:00:00+00:00      468483  408.081412   99.89   99.9100   99.6000   \n",
       "2023-04-11 04:00:00+00:00      403316  410.018650   99.81   99.8800   99.5900   \n",
       "2023-04-12 04:00:00+00:00      639926  409.706051  100.17  100.2000   99.6100   \n",
       "2023-04-13 04:00:00+00:00      566796  411.717306  100.16  100.2677   99.8050   \n",
       "\n",
       "                                                                    \n",
       "                            close   volume trade_count        vwap  \n",
       "timestamp                                                           \n",
       "2020-04-13 04:00:00+00:00  116.70  5738262       24812  116.845817  \n",
       "2020-04-14 04:00:00+00:00  116.76  5506671       23102  116.766750  \n",
       "2020-04-15 04:00:00+00:00  117.24  4367410       19620  117.144915  \n",
       "2020-04-16 04:00:00+00:00  117.39  4744716       16906  117.399687  \n",
       "2020-04-17 04:00:00+00:00  117.25  4949824       25621  117.358347  \n",
       "2023-04-06 04:00:00+00:00  100.44  6105185       23351  100.515057  \n",
       "2023-04-10 04:00:00+00:00   99.75  4477958       21431   99.752952  \n",
       "2023-04-11 04:00:00+00:00   99.81  4543803       19479   99.740336  \n",
       "2023-04-12 04:00:00+00:00   99.93  7226122       33545   99.885733  \n",
       "2023-04-13 04:00:00+00:00   99.89  3964799       18405   99.967812  "
      ]
     },
     "execution_count": 41,
     "metadata": {},
     "output_type": "execute_result"
    }
   ],
   "source": [
    "# Use the Alpaca get_bars function to get current closing prices the portfolio\n",
    "# Be sure to set the `df` property after the function to format the response object as a DataFrame\n",
    "df_portfolio = alpaca.get_bars(tickers,timeframe,start = start_date, end = end_date).df\n",
    "#df_portfolio\n",
    "\n",
    "# Reorganize the DataFrame\n",
    "# Separate ticker data\n",
    "SPY = df_portfolio[df_portfolio['symbol']=='SPY'].drop('symbol', axis =1)\n",
    "AGG = df_portfolio[df_portfolio['symbol']=='AGG'].drop('symbol', axis =1)    \n",
    "\n",
    "# Concatenate the ticker DataFrames\n",
    "prices_df = pd.concat([SPY,AGG], axis =1, keys=[\"SPY\",\"AGG\"])\n",
    "\n",
    "# Review the first 5 rows of the Alpaca DataFrame\n",
    "prices_df.head()\n",
    "                      \n"
   ]
  },
  {
   "cell_type": "markdown",
   "metadata": {},
   "source": [
    "#### Step 5: Navigating the Alpaca response DataFrame, select the `SPY` and `AGG` closing prices, and store them as variables."
   ]
  },
  {
   "cell_type": "code",
   "execution_count": 17,
   "metadata": {},
   "outputs": [
    {
     "data": {
      "text/plain": [
       "99.89"
      ]
     },
     "execution_count": 17,
     "metadata": {},
     "output_type": "execute_result"
    }
   ],
   "source": [
    "# Access the closing price for AGG from the Alpaca DataFrame\n",
    "# Converting the value to a floating point number\n",
    "#prices_df.index = prices_df.index.date\n",
    "agg_close_price = float(prices_df['AGG']['close'])\n",
    "#gg_close_price_clean = float(agg_close_price)\n",
    "\n",
    "# Print the AGG closing price\n",
    "agg_close_price"
   ]
  },
  {
   "cell_type": "code",
   "execution_count": 18,
   "metadata": {},
   "outputs": [
    {
     "data": {
      "text/plain": [
       "413.47"
      ]
     },
     "execution_count": 18,
     "metadata": {},
     "output_type": "execute_result"
    }
   ],
   "source": [
    "# Access the closing price for SPY from the Alpaca DataFrame\n",
    "# Converting the value to a floating point number\n",
    "spy_close_price = float(prices_df['SPY']['close'])\n",
    "\n",
    "# Print the SPY closing price\n",
    "spy_close_price\n"
   ]
  },
  {
   "cell_type": "markdown",
   "metadata": {},
   "source": [
    "#### Step 6: Calculate the value, in US dollars, of the current amount of shares in each of the stock and bond portions of the portfolio, and print the results."
   ]
  },
  {
   "cell_type": "code",
   "execution_count": 19,
   "metadata": {},
   "outputs": [
    {
     "name": "stdout",
     "output_type": "stream",
     "text": [
      "Current value of the bond portfolio $19,978.00\n"
     ]
    }
   ],
   "source": [
    "# Calculate the current value of the bond portion of the portfolio\n",
    "agg_value = agg_shares * agg_close_price\n",
    "\n",
    "# Print the current value of the bond portfolio\n",
    "print(f\"Current value of the bond portfolio ${agg_value:,.2f}\")"
   ]
  },
  {
   "cell_type": "code",
   "execution_count": 20,
   "metadata": {},
   "outputs": [
    {
     "name": "stdout",
     "output_type": "stream",
     "text": [
      "Current value of the stock portfolio $45,481.70\n"
     ]
    }
   ],
   "source": [
    "# Calculate the current value of the stock portion of the portfolio\n",
    "spy_value = spy_shares * spy_close_price\n",
    "# Print the current value of the stock portfolio\n",
    "print(f\"Current value of the stock portfolio ${spy_value:,.2f}\")"
   ]
  },
  {
   "cell_type": "code",
   "execution_count": 21,
   "metadata": {},
   "outputs": [
    {
     "name": "stdout",
     "output_type": "stream",
     "text": [
      "Current balance of the stock & bond portfolio $65,459.70\n"
     ]
    }
   ],
   "source": [
    "# Calculate the total value of the stock and bond portion of the portfolio\n",
    "total_stocks_bonds = agg_value + spy_value\n",
    "\n",
    "# Print the current balance of the stock and bond portion of the portfolio\n",
    "print(f\"Current balance of the stock & bond portfolio ${total_stocks_bonds:,.2f}\")"
   ]
  },
  {
   "cell_type": "code",
   "execution_count": 22,
   "metadata": {},
   "outputs": [
    {
     "name": "stdout",
     "output_type": "stream",
     "text": [
      "Current balance of the stock & bond portfolio $112,498.19\n"
     ]
    }
   ],
   "source": [
    "# Calculate the total value of the member's entire savings portfolio\n",
    "# Add the value of the cryptocurrency walled to the value of the total stocks and bonds\n",
    "total_portfolio = total_stocks_bonds + total_crypto_wallet\n",
    "\n",
    "# Print current cryptocurrency wallet balance\n",
    "print(f\"Current balance of the stock & bond portfolio ${total_portfolio:,.2f}\")\n"
   ]
  },
  {
   "cell_type": "markdown",
   "metadata": {},
   "source": [
    "### Evaluate the Emergency Fund\n",
    "\n",
    "In this section, you’ll use the valuations for the cryptocurrency wallet and for the stock and bond portions of the portfolio to determine if the credit union member has enough savings to build an emergency fund into their financial plan. To do this, complete the following steps:\n",
    "\n",
    "1. Create a Python list named `savings_data` that has two elements. The first element contains the total value of the cryptocurrency wallet. The second element contains the total value of the stock and bond portions of the portfolio.\n",
    "\n",
    "2. Use the `savings_data` list to create a Pandas DataFrame named `savings_df`, and then display this DataFrame. The function to create the DataFrame should take the following three parameters:\n",
    "\n",
    "    - `savings_data`: Use the list that you just created.\n",
    "\n",
    "    - `columns`: Set this parameter equal to a Python list with a single value called `amount`.\n",
    "\n",
    "    - `index`: Set this parameter equal to a Python list with the values of `crypto` and `stock/bond`.\n",
    "\n",
    "3. Use the `savings_df` DataFrame to plot a pie chart that visualizes the composition of the member’s portfolio. The y-axis of the pie chart uses `amount`. Be sure to add a title.\n",
    "\n",
    "4. Using Python, determine if the current portfolio has enough to create an emergency fund as part of the member’s financial plan. Ideally, an emergency fund should equal to three times the member’s monthly income. To do this, implement the following steps:\n",
    "\n",
    "    1. Create a variable named `emergency_fund_value`, and set it equal to three times the value of the member’s `monthly_income` of $12000. (You set this earlier in Part 1).\n",
    "\n",
    "    2. Create a series of three if statements to determine if the member’s total portfolio is large enough to fund the emergency portfolio:\n",
    "\n",
    "        1. If the total portfolio value is greater than the emergency fund value, display a message congratulating the member for having enough money in this fund.\n",
    "\n",
    "        2. Else if the total portfolio value is equal to the emergency fund value, display a message congratulating the member on reaching this important financial goal.\n",
    "\n",
    "        3. Else the total portfolio is less than the emergency fund value, so display a message showing how many dollars away the member is from reaching the goal. (Subtract the total portfolio value from the emergency fund value.)\n"
   ]
  },
  {
   "cell_type": "markdown",
   "metadata": {},
   "source": [
    "#### Step 1: Create a Python list named `savings_data` that has two elements. The first element contains the total value of the cryptocurrency wallet. The second element contains the total value of the stock and bond portions of the portfolio."
   ]
  },
  {
   "cell_type": "code",
   "execution_count": 23,
   "metadata": {},
   "outputs": [
    {
     "name": "stdout",
     "output_type": "stream",
     "text": [
      "(47038.491, 65459.700000000004)\n"
     ]
    }
   ],
   "source": [
    "# Consolidate financial assets data into a Python list\n",
    "\n",
    "savings_data = (total_crypto_wallet,total_stocks_bonds)\n",
    "\n",
    "# Review the Python list savings_data\n",
    "print(savings_data)    "
   ]
  },
  {
   "cell_type": "markdown",
   "metadata": {},
   "source": [
    "#### Step 2: Use the `savings_data` list to create a Pandas DataFrame named `savings_df`, and then display this DataFrame. The function to create the DataFrame should take the following three parameters:\n",
    "\n",
    "- `savings_data`: Use the list that you just created.\n",
    "\n",
    "- `columns`: Set this parameter equal to a Python list with a single value called `amount`.\n",
    "\n",
    "- `index`: Set this parameter equal to a Python list with the values of `crypto` and `stock/bond`.\n"
   ]
  },
  {
   "cell_type": "code",
   "execution_count": 24,
   "metadata": {},
   "outputs": [
    {
     "data": {
      "text/html": [
       "<div>\n",
       "<style scoped>\n",
       "    .dataframe tbody tr th:only-of-type {\n",
       "        vertical-align: middle;\n",
       "    }\n",
       "\n",
       "    .dataframe tbody tr th {\n",
       "        vertical-align: top;\n",
       "    }\n",
       "\n",
       "    .dataframe thead th {\n",
       "        text-align: right;\n",
       "    }\n",
       "</style>\n",
       "<table border=\"1\" class=\"dataframe\">\n",
       "  <thead>\n",
       "    <tr style=\"text-align: right;\">\n",
       "      <th></th>\n",
       "      <th>amount</th>\n",
       "    </tr>\n",
       "  </thead>\n",
       "  <tbody>\n",
       "    <tr>\n",
       "      <th>crypto</th>\n",
       "      <td>47038.491</td>\n",
       "    </tr>\n",
       "    <tr>\n",
       "      <th>stocks/bonds</th>\n",
       "      <td>65459.700</td>\n",
       "    </tr>\n",
       "  </tbody>\n",
       "</table>\n",
       "</div>"
      ],
      "text/plain": [
       "                 amount\n",
       "crypto        47038.491\n",
       "stocks/bonds  65459.700"
      ]
     },
     "execution_count": 24,
     "metadata": {},
     "output_type": "execute_result"
    }
   ],
   "source": [
    "# Create a Pandas DataFrame called savings_df \n",
    "\n",
    "savings_df=pd.DataFrame(savings_data, columns = ['amount'], index = ['crypto','stocks/bonds'])\n",
    "\n",
    "# Display the savings_df DataFrame\n",
    "savings_df.head()\n"
   ]
  },
  {
   "cell_type": "markdown",
   "metadata": {},
   "source": [
    "#### Step 3: Use the `savings_df` DataFrame to plot a pie chart that visualizes the composition of the member’s portfolio. The y-axis of the pie chart uses `amount`. Be sure to add a title."
   ]
  },
  {
   "cell_type": "code",
   "execution_count": 25,
   "metadata": {},
   "outputs": [
    {
     "data": {
      "text/plain": [
       "<AxesSubplot:title={'center':'Members Portfolio'}, ylabel='amount'>"
      ]
     },
     "execution_count": 25,
     "metadata": {},
     "output_type": "execute_result"
    },
    {
     "data": {
      "image/png": "[encoded data removed]",
      "text/plain": [
       "<Figure size 800x800 with 1 Axes>"
      ]
     },
     "metadata": {},
     "output_type": "display_data"
    }
   ],
   "source": [
    "# Plot the total value of the member's portfolio (crypto and stock/bond) in a pie chart\n",
    "# May consdier using a Lamda function to calculate and display percentages?\n",
    "savings_df.plot.pie(y = 'amount', figsize=(8,8), title = ('Members Portfolio'), autopct = '%.1f')\n"
   ]
  },
  {
   "cell_type": "markdown",
   "metadata": {},
   "source": [
    "#### Step 4: Using Python, determine if the current portfolio has enough to create an emergency fund as part of the member’s financial plan. Ideally, an emergency fund should equal to three times the member’s monthly income. To do this, implement the following steps:\n",
    "\n",
    "Step 1. Create a variable named `emergency_fund_value`, and set it equal to three times the value of the member’s `monthly_income` of 12000. (You set this earlier in Part 1).\n",
    "\n",
    "Step 2. Create a series of three if statements to determine if the member’s total portfolio is large enough to fund the emergency portfolio:\n",
    "\n",
    "* If the total portfolio value is greater than the emergency fund value, display a message congratulating the member for having enough money in this fund.\n",
    "\n",
    "* Else if the total portfolio value is equal to the emergency fund value, display a message congratulating the member on reaching this important financial goal.\n",
    "\n",
    "* Else the total portfolio is less than the emergency fund value, so display a message showing how many dollars away the member is from reaching the goal. (Subtract the total portfolio value from the emergency fund value.)\n"
   ]
  },
  {
   "cell_type": "markdown",
   "metadata": {},
   "source": [
    "##### Step 4-1: Create a variable named `emergency_fund_value`, and set it equal to three times the value of the member’s `monthly_income` of 12000. (You set this earlier in Part 1)."
   ]
  },
  {
   "cell_type": "code",
   "execution_count": 26,
   "metadata": {},
   "outputs": [
    {
     "name": "stdout",
     "output_type": "stream",
     "text": [
      "$36,000.00\n"
     ]
    }
   ],
   "source": [
    "# Create a variable named emergency_fund_value\n",
    "emergency_fund_value = monthly_income *3\n",
    "# Test variables for if statement\n",
    "#emergency_fund_value = total_portfolio\n",
    "#emergency_fund_value = monthly_income *10\n",
    "print(f\"${emergency_fund_value:,.2f}\")\n"
   ]
  },
  {
   "cell_type": "markdown",
   "metadata": {},
   "source": [
    "##### Step 4-2: Create a series of three if statements to determine if the member’s total portfolio is large enough to fund the emergency portfolio:\n",
    "\n",
    "* If the total portfolio value is greater than the emergency fund value, display a message congratulating the member for having enough money in this fund.\n",
    "\n",
    "* Else if the total portfolio value is equal to the emergency fund value, display a message congratulating the member on reaching this important financial goal.\n",
    "\n",
    "* Else the total portfolio is less than the emergency fund value, so display a message showing how many dollars away the member is from reaching the goal. (Subtract the total portfolio value from the emergency fund value.)"
   ]
  },
  {
   "cell_type": "code",
   "execution_count": 27,
   "metadata": {},
   "outputs": [
    {
     "name": "stdout",
     "output_type": "stream",
     "text": [
      "Congratulations! You have enough money in the fund\n"
     ]
    }
   ],
   "source": [
    "# Evaluate the possibility of creating an emergency fund with 3 conditions:\n",
    "if total_portfolio > emergency_fund_value:\n",
    "    print(f'Congratulations! You have enough money in the fund')\n",
    "elif total_portfolio == emergency_fund_value: \n",
    "    print(f'Total portfolio value is equal to emergency fund goal')\n",
    "elif total_portfolio < emergency_fund_value:\n",
    "    emergency_fund_gap = total_portfolio - emergency_fund_value\n",
    "    print(f'You are ${emergency_fund_gap:,.2f} away from your goal')\n",
    "                \n"
   ]
  },
  {
   "cell_type": "markdown",
   "metadata": {},
   "source": [
    "## Part 2: Create a Financial Planner for Retirement"
   ]
  },
  {
   "cell_type": "markdown",
   "metadata": {},
   "source": [
    "### Create the Monte Carlo Simulation\n",
    "\n",
    "In this section, you’ll use the MCForecastTools library to create a Monte Carlo simulation for the member’s savings portfolio. To do this, complete the following steps:\n",
    "\n",
    "1. Make an API call via the Alpaca SDK to get 3 years of historical closing prices for a traditional 60/40 portfolio split: 60% stocks (SPY) and 40% bonds (AGG).\n",
    "\n",
    "2. Run a Monte Carlo simulation of 500 samples and 30 years for the 60/40 portfolio, and then plot the results.The following image shows the overlay line plot resulting from a simulation with these characteristics. However, because a random number generator is used to run each live Monte Carlo simulation, your image will differ slightly from this exact image:\n",
    "\n",
    "![A screenshot depicts the resulting plot.](Images/5-4-monte-carlo-line-plot.png)\n",
    "\n",
    "3. Plot the probability distribution of the Monte Carlo simulation. Plot the probability distribution of the Monte Carlo simulation. The following image shows the histogram plot resulting from a simulation with these characteristics. However, because a random number generator is used to run each live Monte Carlo simulation, your image will differ slightly from this exact image:\n",
    "\n",
    "![A screenshot depicts the histogram plot.](Images/5-4-monte-carlo-histogram.png)\n",
    "\n",
    "4. Generate the summary statistics for the Monte Carlo simulation.\n",
    "\n"
   ]
  },
  {
   "cell_type": "markdown",
   "metadata": {},
   "source": [
    "#### Step 1: Make an API call via the Alpaca SDK to get 3 years of historical closing prices for a traditional 60/40 portfolio split: 60% stocks (SPY) and 40% bonds (AGG)."
   ]
  },
  {
   "cell_type": "code",
   "execution_count": 37,
   "metadata": {},
   "outputs": [],
   "source": [
    "# Set start and end dates of 3 years back from your current date\n",
    "# Alternatively, you can use an end date of 2020-08-07 and work 3 years back from that date \n",
    "start_date = pd.Timestamp(\"2020-04-13\",tz=\"America/New_York\").isoformat()\n",
    "end_date = pd.Timestamp(\"2023-04-13\",tz=\"America/New_York\").isoformat()"
   ]
  },
  {
   "cell_type": "code",
   "execution_count": 44,
   "metadata": {},
   "outputs": [
    {
     "data": {
      "text/html": [
       "<div>\n",
       "<style scoped>\n",
       "    .dataframe tbody tr th:only-of-type {\n",
       "        vertical-align: middle;\n",
       "    }\n",
       "\n",
       "    .dataframe tbody tr th {\n",
       "        vertical-align: top;\n",
       "    }\n",
       "\n",
       "    .dataframe thead tr th {\n",
       "        text-align: left;\n",
       "    }\n",
       "\n",
       "    .dataframe thead tr:last-of-type th {\n",
       "        text-align: right;\n",
       "    }\n",
       "</style>\n",
       "<table border=\"1\" class=\"dataframe\">\n",
       "  <thead>\n",
       "    <tr>\n",
       "      <th></th>\n",
       "      <th colspan=\"7\" halign=\"left\">SPY</th>\n",
       "      <th colspan=\"7\" halign=\"left\">AGG</th>\n",
       "    </tr>\n",
       "    <tr>\n",
       "      <th></th>\n",
       "      <th>open</th>\n",
       "      <th>high</th>\n",
       "      <th>low</th>\n",
       "      <th>close</th>\n",
       "      <th>volume</th>\n",
       "      <th>trade_count</th>\n",
       "      <th>vwap</th>\n",
       "      <th>open</th>\n",
       "      <th>high</th>\n",
       "      <th>low</th>\n",
       "      <th>close</th>\n",
       "      <th>volume</th>\n",
       "      <th>trade_count</th>\n",
       "      <th>vwap</th>\n",
       "    </tr>\n",
       "    <tr>\n",
       "      <th>timestamp</th>\n",
       "      <th></th>\n",
       "      <th></th>\n",
       "      <th></th>\n",
       "      <th></th>\n",
       "      <th></th>\n",
       "      <th></th>\n",
       "      <th></th>\n",
       "      <th></th>\n",
       "      <th></th>\n",
       "      <th></th>\n",
       "      <th></th>\n",
       "      <th></th>\n",
       "      <th></th>\n",
       "      <th></th>\n",
       "    </tr>\n",
       "  </thead>\n",
       "  <tbody>\n",
       "    <tr>\n",
       "      <th>2020-04-13 04:00:00+00:00</th>\n",
       "      <td>277.14</td>\n",
       "      <td>277.5100</td>\n",
       "      <td>271.4100</td>\n",
       "      <td>275.63</td>\n",
       "      <td>114868253</td>\n",
       "      <td>752225</td>\n",
       "      <td>274.512847</td>\n",
       "      <td>117.09</td>\n",
       "      <td>117.1700</td>\n",
       "      <td>116.5308</td>\n",
       "      <td>116.70</td>\n",
       "      <td>5738262</td>\n",
       "      <td>24812</td>\n",
       "      <td>116.845817</td>\n",
       "    </tr>\n",
       "    <tr>\n",
       "      <th>2020-04-14 04:00:00+00:00</th>\n",
       "      <td>280.98</td>\n",
       "      <td>284.9000</td>\n",
       "      <td>275.5106</td>\n",
       "      <td>283.80</td>\n",
       "      <td>134143470</td>\n",
       "      <td>761246</td>\n",
       "      <td>282.089774</td>\n",
       "      <td>116.99</td>\n",
       "      <td>117.0000</td>\n",
       "      <td>116.5850</td>\n",
       "      <td>116.76</td>\n",
       "      <td>5506671</td>\n",
       "      <td>23102</td>\n",
       "      <td>116.766750</td>\n",
       "    </tr>\n",
       "    <tr>\n",
       "      <th>2020-04-15 04:00:00+00:00</th>\n",
       "      <td>277.57</td>\n",
       "      <td>283.9407</td>\n",
       "      <td>275.4600</td>\n",
       "      <td>277.75</td>\n",
       "      <td>121779042</td>\n",
       "      <td>711140</td>\n",
       "      <td>277.826041</td>\n",
       "      <td>117.03</td>\n",
       "      <td>117.3050</td>\n",
       "      <td>116.7100</td>\n",
       "      <td>117.24</td>\n",
       "      <td>4367410</td>\n",
       "      <td>19620</td>\n",
       "      <td>117.144915</td>\n",
       "    </tr>\n",
       "    <tr>\n",
       "      <th>2020-04-16 04:00:00+00:00</th>\n",
       "      <td>279.15</td>\n",
       "      <td>280.0300</td>\n",
       "      <td>275.7600</td>\n",
       "      <td>278.96</td>\n",
       "      <td>132398585</td>\n",
       "      <td>748801</td>\n",
       "      <td>278.840675</td>\n",
       "      <td>117.19</td>\n",
       "      <td>117.5250</td>\n",
       "      <td>117.1900</td>\n",
       "      <td>117.39</td>\n",
       "      <td>4744716</td>\n",
       "      <td>16906</td>\n",
       "      <td>117.399687</td>\n",
       "    </tr>\n",
       "    <tr>\n",
       "      <th>2020-04-17 04:00:00+00:00</th>\n",
       "      <td>285.38</td>\n",
       "      <td>287.3000</td>\n",
       "      <td>282.4000</td>\n",
       "      <td>286.54</td>\n",
       "      <td>146685294</td>\n",
       "      <td>699788</td>\n",
       "      <td>284.307868</td>\n",
       "      <td>117.52</td>\n",
       "      <td>117.6200</td>\n",
       "      <td>117.0350</td>\n",
       "      <td>117.25</td>\n",
       "      <td>4949824</td>\n",
       "      <td>25621</td>\n",
       "      <td>117.358347</td>\n",
       "    </tr>\n",
       "    <tr>\n",
       "      <th>2023-04-06 04:00:00+00:00</th>\n",
       "      <td>406.77</td>\n",
       "      <td>409.4800</td>\n",
       "      <td>405.6780</td>\n",
       "      <td>409.19</td>\n",
       "      <td>63743345</td>\n",
       "      <td>482110</td>\n",
       "      <td>408.101856</td>\n",
       "      <td>100.56</td>\n",
       "      <td>100.6850</td>\n",
       "      <td>100.4400</td>\n",
       "      <td>100.44</td>\n",
       "      <td>6105185</td>\n",
       "      <td>23351</td>\n",
       "      <td>100.515057</td>\n",
       "    </tr>\n",
       "    <tr>\n",
       "      <th>2023-04-10 04:00:00+00:00</th>\n",
       "      <td>406.61</td>\n",
       "      <td>409.6900</td>\n",
       "      <td>405.9700</td>\n",
       "      <td>409.61</td>\n",
       "      <td>63693219</td>\n",
       "      <td>468483</td>\n",
       "      <td>408.081412</td>\n",
       "      <td>99.89</td>\n",
       "      <td>99.9100</td>\n",
       "      <td>99.6000</td>\n",
       "      <td>99.75</td>\n",
       "      <td>4477958</td>\n",
       "      <td>21431</td>\n",
       "      <td>99.752952</td>\n",
       "    </tr>\n",
       "    <tr>\n",
       "      <th>2023-04-11 04:00:00+00:00</th>\n",
       "      <td>410.26</td>\n",
       "      <td>411.1800</td>\n",
       "      <td>408.9200</td>\n",
       "      <td>409.72</td>\n",
       "      <td>59316777</td>\n",
       "      <td>403316</td>\n",
       "      <td>410.018650</td>\n",
       "      <td>99.81</td>\n",
       "      <td>99.8800</td>\n",
       "      <td>99.5900</td>\n",
       "      <td>99.81</td>\n",
       "      <td>4543803</td>\n",
       "      <td>19479</td>\n",
       "      <td>99.740336</td>\n",
       "    </tr>\n",
       "    <tr>\n",
       "      <th>2023-04-12 04:00:00+00:00</th>\n",
       "      <td>411.87</td>\n",
       "      <td>412.1700</td>\n",
       "      <td>407.4400</td>\n",
       "      <td>408.05</td>\n",
       "      <td>86440377</td>\n",
       "      <td>639926</td>\n",
       "      <td>409.706051</td>\n",
       "      <td>100.17</td>\n",
       "      <td>100.2000</td>\n",
       "      <td>99.6100</td>\n",
       "      <td>99.93</td>\n",
       "      <td>7226122</td>\n",
       "      <td>33545</td>\n",
       "      <td>99.885733</td>\n",
       "    </tr>\n",
       "    <tr>\n",
       "      <th>2023-04-13 04:00:00+00:00</th>\n",
       "      <td>409.18</td>\n",
       "      <td>413.8400</td>\n",
       "      <td>407.9922</td>\n",
       "      <td>413.47</td>\n",
       "      <td>85814754</td>\n",
       "      <td>566796</td>\n",
       "      <td>411.717306</td>\n",
       "      <td>100.16</td>\n",
       "      <td>100.2677</td>\n",
       "      <td>99.8050</td>\n",
       "      <td>99.89</td>\n",
       "      <td>3964799</td>\n",
       "      <td>18405</td>\n",
       "      <td>99.967812</td>\n",
       "    </tr>\n",
       "  </tbody>\n",
       "</table>\n",
       "</div>"
      ],
      "text/plain": [
       "                              SPY                                         \\\n",
       "                             open      high       low   close     volume   \n",
       "timestamp                                                                  \n",
       "2020-04-13 04:00:00+00:00  277.14  277.5100  271.4100  275.63  114868253   \n",
       "2020-04-14 04:00:00+00:00  280.98  284.9000  275.5106  283.80  134143470   \n",
       "2020-04-15 04:00:00+00:00  277.57  283.9407  275.4600  277.75  121779042   \n",
       "2020-04-16 04:00:00+00:00  279.15  280.0300  275.7600  278.96  132398585   \n",
       "2020-04-17 04:00:00+00:00  285.38  287.3000  282.4000  286.54  146685294   \n",
       "2023-04-06 04:00:00+00:00  406.77  409.4800  405.6780  409.19   63743345   \n",
       "2023-04-10 04:00:00+00:00  406.61  409.6900  405.9700  409.61   63693219   \n",
       "2023-04-11 04:00:00+00:00  410.26  411.1800  408.9200  409.72   59316777   \n",
       "2023-04-12 04:00:00+00:00  411.87  412.1700  407.4400  408.05   86440377   \n",
       "2023-04-13 04:00:00+00:00  409.18  413.8400  407.9922  413.47   85814754   \n",
       "\n",
       "                                                      AGG                      \\\n",
       "                          trade_count        vwap    open      high       low   \n",
       "timestamp                                                                       \n",
       "2020-04-13 04:00:00+00:00      752225  274.512847  117.09  117.1700  116.5308   \n",
       "2020-04-14 04:00:00+00:00      761246  282.089774  116.99  117.0000  116.5850   \n",
       "2020-04-15 04:00:00+00:00      711140  277.826041  117.03  117.3050  116.7100   \n",
       "2020-04-16 04:00:00+00:00      748801  278.840675  117.19  117.5250  117.1900   \n",
       "2020-04-17 04:00:00+00:00      699788  284.307868  117.52  117.6200  117.0350   \n",
       "2023-04-06 04:00:00+00:00      482110  408.101856  100.56  100.6850  100.4400   \n",
       "2023-04-10 04:00:00+00:00      468483  408.081412   99.89   99.9100   99.6000   \n",
       "2023-04-11 04:00:00+00:00      403316  410.018650   99.81   99.8800   99.5900   \n",
       "2023-04-12 04:00:00+00:00      639926  409.706051  100.17  100.2000   99.6100   \n",
       "2023-04-13 04:00:00+00:00      566796  411.717306  100.16  100.2677   99.8050   \n",
       "\n",
       "                                                                    \n",
       "                            close   volume trade_count        vwap  \n",
       "timestamp                                                           \n",
       "2020-04-13 04:00:00+00:00  116.70  5738262       24812  116.845817  \n",
       "2020-04-14 04:00:00+00:00  116.76  5506671       23102  116.766750  \n",
       "2020-04-15 04:00:00+00:00  117.24  4367410       19620  117.144915  \n",
       "2020-04-16 04:00:00+00:00  117.39  4744716       16906  117.399687  \n",
       "2020-04-17 04:00:00+00:00  117.25  4949824       25621  117.358347  \n",
       "2023-04-06 04:00:00+00:00  100.44  6105185       23351  100.515057  \n",
       "2023-04-10 04:00:00+00:00   99.75  4477958       21431   99.752952  \n",
       "2023-04-11 04:00:00+00:00   99.81  4543803       19479   99.740336  \n",
       "2023-04-12 04:00:00+00:00   99.93  7226122       33545   99.885733  \n",
       "2023-04-13 04:00:00+00:00   99.89  3964799       18405   99.967812  "
      ]
     },
     "execution_count": 44,
     "metadata": {},
     "output_type": "execute_result"
    }
   ],
   "source": [
    "# Use the Alpaca get_bars function to make the API call to get the 3 years worth of pricing data\n",
    "# The tickers and timeframe parameters should have been set in Part 1 of this activity \n",
    "# The start and end dates should be updated with the information set above\n",
    "# Remember to add the df property to the end of the call so the response is returned as a DataFrame\n",
    "df_portfolio = alpaca.get_bars(tickers,timeframe,start = start_date, end = end_date).df\n",
    "\n",
    "# Show data table to make sure response is correct commented out\n",
    "#df_portfolio\n",
    "\n",
    "# Reorganize the DataFrame\n",
    "# Separate ticker data\n",
    "SPY = df_portfolio[df_portfolio['symbol']=='SPY'].drop('symbol', axis =1)\n",
    "AGG = df_portfolio[df_portfolio['symbol']=='AGG'].drop('symbol', axis =1)\n",
    "\n",
    "# Concatenate the ticker DataFrames\n",
    "prices_df = pd.concat([SPY,AGG], axis =1, keys=[\"SPY\",\"AGG\"])\n",
    "\n",
    "# Display both the first and last five rows of the DataFrame\n",
    "pd.concat([prices_df.head(), prices_df.tail()])\n"
   ]
  },
  {
   "cell_type": "markdown",
   "metadata": {},
   "source": [
    "#### Step 2: Run a Monte Carlo simulation of 500 samples and 30 years for the 60/40 portfolio, and then plot the results."
   ]
  },
  {
   "cell_type": "code",
   "execution_count": 57,
   "metadata": {},
   "outputs": [
    {
     "data": {
      "text/html": [
       "<div>\n",
       "<style scoped>\n",
       "    .dataframe tbody tr th:only-of-type {\n",
       "        vertical-align: middle;\n",
       "    }\n",
       "\n",
       "    .dataframe tbody tr th {\n",
       "        vertical-align: top;\n",
       "    }\n",
       "\n",
       "    .dataframe thead tr th {\n",
       "        text-align: left;\n",
       "    }\n",
       "\n",
       "    .dataframe thead tr:last-of-type th {\n",
       "        text-align: right;\n",
       "    }\n",
       "</style>\n",
       "<table border=\"1\" class=\"dataframe\">\n",
       "  <thead>\n",
       "    <tr>\n",
       "      <th></th>\n",
       "      <th colspan=\"8\" halign=\"left\">SPY</th>\n",
       "      <th colspan=\"8\" halign=\"left\">AGG</th>\n",
       "    </tr>\n",
       "    <tr>\n",
       "      <th></th>\n",
       "      <th>open</th>\n",
       "      <th>high</th>\n",
       "      <th>low</th>\n",
       "      <th>close</th>\n",
       "      <th>volume</th>\n",
       "      <th>trade_count</th>\n",
       "      <th>vwap</th>\n",
       "      <th>daily_return</th>\n",
       "      <th>open</th>\n",
       "      <th>high</th>\n",
       "      <th>low</th>\n",
       "      <th>close</th>\n",
       "      <th>volume</th>\n",
       "      <th>trade_count</th>\n",
       "      <th>vwap</th>\n",
       "      <th>daily_return</th>\n",
       "    </tr>\n",
       "    <tr>\n",
       "      <th>timestamp</th>\n",
       "      <th></th>\n",
       "      <th></th>\n",
       "      <th></th>\n",
       "      <th></th>\n",
       "      <th></th>\n",
       "      <th></th>\n",
       "      <th></th>\n",
       "      <th></th>\n",
       "      <th></th>\n",
       "      <th></th>\n",
       "      <th></th>\n",
       "      <th></th>\n",
       "      <th></th>\n",
       "      <th></th>\n",
       "      <th></th>\n",
       "      <th></th>\n",
       "    </tr>\n",
       "  </thead>\n",
       "  <tbody>\n",
       "    <tr>\n",
       "      <th>2020-04-13 04:00:00+00:00</th>\n",
       "      <td>277.14</td>\n",
       "      <td>277.5100</td>\n",
       "      <td>271.4100</td>\n",
       "      <td>275.63</td>\n",
       "      <td>114868253</td>\n",
       "      <td>752225</td>\n",
       "      <td>274.512847</td>\n",
       "      <td>NaN</td>\n",
       "      <td>117.09</td>\n",
       "      <td>117.1700</td>\n",
       "      <td>116.5308</td>\n",
       "      <td>116.70</td>\n",
       "      <td>5738262</td>\n",
       "      <td>24812</td>\n",
       "      <td>116.845817</td>\n",
       "      <td>NaN</td>\n",
       "    </tr>\n",
       "    <tr>\n",
       "      <th>2020-04-14 04:00:00+00:00</th>\n",
       "      <td>280.98</td>\n",
       "      <td>284.9000</td>\n",
       "      <td>275.5106</td>\n",
       "      <td>283.80</td>\n",
       "      <td>134143470</td>\n",
       "      <td>761246</td>\n",
       "      <td>282.089774</td>\n",
       "      <td>0.029641</td>\n",
       "      <td>116.99</td>\n",
       "      <td>117.0000</td>\n",
       "      <td>116.5850</td>\n",
       "      <td>116.76</td>\n",
       "      <td>5506671</td>\n",
       "      <td>23102</td>\n",
       "      <td>116.766750</td>\n",
       "      <td>0.000514</td>\n",
       "    </tr>\n",
       "    <tr>\n",
       "      <th>2020-04-15 04:00:00+00:00</th>\n",
       "      <td>277.57</td>\n",
       "      <td>283.9407</td>\n",
       "      <td>275.4600</td>\n",
       "      <td>277.75</td>\n",
       "      <td>121779042</td>\n",
       "      <td>711140</td>\n",
       "      <td>277.826041</td>\n",
       "      <td>-0.021318</td>\n",
       "      <td>117.03</td>\n",
       "      <td>117.3050</td>\n",
       "      <td>116.7100</td>\n",
       "      <td>117.24</td>\n",
       "      <td>4367410</td>\n",
       "      <td>19620</td>\n",
       "      <td>117.144915</td>\n",
       "      <td>0.004111</td>\n",
       "    </tr>\n",
       "    <tr>\n",
       "      <th>2020-04-16 04:00:00+00:00</th>\n",
       "      <td>279.15</td>\n",
       "      <td>280.0300</td>\n",
       "      <td>275.7600</td>\n",
       "      <td>278.96</td>\n",
       "      <td>132398585</td>\n",
       "      <td>748801</td>\n",
       "      <td>278.840675</td>\n",
       "      <td>0.004356</td>\n",
       "      <td>117.19</td>\n",
       "      <td>117.5250</td>\n",
       "      <td>117.1900</td>\n",
       "      <td>117.39</td>\n",
       "      <td>4744716</td>\n",
       "      <td>16906</td>\n",
       "      <td>117.399687</td>\n",
       "      <td>0.001279</td>\n",
       "    </tr>\n",
       "    <tr>\n",
       "      <th>2020-04-17 04:00:00+00:00</th>\n",
       "      <td>285.38</td>\n",
       "      <td>287.3000</td>\n",
       "      <td>282.4000</td>\n",
       "      <td>286.54</td>\n",
       "      <td>146685294</td>\n",
       "      <td>699788</td>\n",
       "      <td>284.307868</td>\n",
       "      <td>0.027172</td>\n",
       "      <td>117.52</td>\n",
       "      <td>117.6200</td>\n",
       "      <td>117.0350</td>\n",
       "      <td>117.25</td>\n",
       "      <td>4949824</td>\n",
       "      <td>25621</td>\n",
       "      <td>117.358347</td>\n",
       "      <td>-0.001193</td>\n",
       "    </tr>\n",
       "    <tr>\n",
       "      <th>2023-04-06 04:00:00+00:00</th>\n",
       "      <td>406.77</td>\n",
       "      <td>409.4800</td>\n",
       "      <td>405.6780</td>\n",
       "      <td>409.19</td>\n",
       "      <td>63743345</td>\n",
       "      <td>482110</td>\n",
       "      <td>408.101856</td>\n",
       "      <td>0.003901</td>\n",
       "      <td>100.56</td>\n",
       "      <td>100.6850</td>\n",
       "      <td>100.4400</td>\n",
       "      <td>100.44</td>\n",
       "      <td>6105185</td>\n",
       "      <td>23351</td>\n",
       "      <td>100.515057</td>\n",
       "      <td>-0.000895</td>\n",
       "    </tr>\n",
       "    <tr>\n",
       "      <th>2023-04-10 04:00:00+00:00</th>\n",
       "      <td>406.61</td>\n",
       "      <td>409.6900</td>\n",
       "      <td>405.9700</td>\n",
       "      <td>409.61</td>\n",
       "      <td>63693219</td>\n",
       "      <td>468483</td>\n",
       "      <td>408.081412</td>\n",
       "      <td>0.001026</td>\n",
       "      <td>99.89</td>\n",
       "      <td>99.9100</td>\n",
       "      <td>99.6000</td>\n",
       "      <td>99.75</td>\n",
       "      <td>4477958</td>\n",
       "      <td>21431</td>\n",
       "      <td>99.752952</td>\n",
       "      <td>-0.006870</td>\n",
       "    </tr>\n",
       "    <tr>\n",
       "      <th>2023-04-11 04:00:00+00:00</th>\n",
       "      <td>410.26</td>\n",
       "      <td>411.1800</td>\n",
       "      <td>408.9200</td>\n",
       "      <td>409.72</td>\n",
       "      <td>59316777</td>\n",
       "      <td>403316</td>\n",
       "      <td>410.018650</td>\n",
       "      <td>0.000269</td>\n",
       "      <td>99.81</td>\n",
       "      <td>99.8800</td>\n",
       "      <td>99.5900</td>\n",
       "      <td>99.81</td>\n",
       "      <td>4543803</td>\n",
       "      <td>19479</td>\n",
       "      <td>99.740336</td>\n",
       "      <td>0.000602</td>\n",
       "    </tr>\n",
       "    <tr>\n",
       "      <th>2023-04-12 04:00:00+00:00</th>\n",
       "      <td>411.87</td>\n",
       "      <td>412.1700</td>\n",
       "      <td>407.4400</td>\n",
       "      <td>408.05</td>\n",
       "      <td>86440377</td>\n",
       "      <td>639926</td>\n",
       "      <td>409.706051</td>\n",
       "      <td>-0.004076</td>\n",
       "      <td>100.17</td>\n",
       "      <td>100.2000</td>\n",
       "      <td>99.6100</td>\n",
       "      <td>99.93</td>\n",
       "      <td>7226122</td>\n",
       "      <td>33545</td>\n",
       "      <td>99.885733</td>\n",
       "      <td>0.001202</td>\n",
       "    </tr>\n",
       "    <tr>\n",
       "      <th>2023-04-13 04:00:00+00:00</th>\n",
       "      <td>409.18</td>\n",
       "      <td>413.8400</td>\n",
       "      <td>407.9922</td>\n",
       "      <td>413.47</td>\n",
       "      <td>85814754</td>\n",
       "      <td>566796</td>\n",
       "      <td>411.717306</td>\n",
       "      <td>0.013283</td>\n",
       "      <td>100.16</td>\n",
       "      <td>100.2677</td>\n",
       "      <td>99.8050</td>\n",
       "      <td>99.89</td>\n",
       "      <td>3964799</td>\n",
       "      <td>18405</td>\n",
       "      <td>99.967812</td>\n",
       "      <td>-0.000400</td>\n",
       "    </tr>\n",
       "  </tbody>\n",
       "</table>\n",
       "</div>"
      ],
      "text/plain": [
       "                              SPY                                         \\\n",
       "                             open      high       low   close     volume   \n",
       "timestamp                                                                  \n",
       "2020-04-13 04:00:00+00:00  277.14  277.5100  271.4100  275.63  114868253   \n",
       "2020-04-14 04:00:00+00:00  280.98  284.9000  275.5106  283.80  134143470   \n",
       "2020-04-15 04:00:00+00:00  277.57  283.9407  275.4600  277.75  121779042   \n",
       "2020-04-16 04:00:00+00:00  279.15  280.0300  275.7600  278.96  132398585   \n",
       "2020-04-17 04:00:00+00:00  285.38  287.3000  282.4000  286.54  146685294   \n",
       "2023-04-06 04:00:00+00:00  406.77  409.4800  405.6780  409.19   63743345   \n",
       "2023-04-10 04:00:00+00:00  406.61  409.6900  405.9700  409.61   63693219   \n",
       "2023-04-11 04:00:00+00:00  410.26  411.1800  408.9200  409.72   59316777   \n",
       "2023-04-12 04:00:00+00:00  411.87  412.1700  407.4400  408.05   86440377   \n",
       "2023-04-13 04:00:00+00:00  409.18  413.8400  407.9922  413.47   85814754   \n",
       "\n",
       "                                                                   AGG  \\\n",
       "                          trade_count        vwap daily_return    open   \n",
       "timestamp                                                                \n",
       "2020-04-13 04:00:00+00:00      752225  274.512847          NaN  117.09   \n",
       "2020-04-14 04:00:00+00:00      761246  282.089774     0.029641  116.99   \n",
       "2020-04-15 04:00:00+00:00      711140  277.826041    -0.021318  117.03   \n",
       "2020-04-16 04:00:00+00:00      748801  278.840675     0.004356  117.19   \n",
       "2020-04-17 04:00:00+00:00      699788  284.307868     0.027172  117.52   \n",
       "2023-04-06 04:00:00+00:00      482110  408.101856     0.003901  100.56   \n",
       "2023-04-10 04:00:00+00:00      468483  408.081412     0.001026   99.89   \n",
       "2023-04-11 04:00:00+00:00      403316  410.018650     0.000269   99.81   \n",
       "2023-04-12 04:00:00+00:00      639926  409.706051    -0.004076  100.17   \n",
       "2023-04-13 04:00:00+00:00      566796  411.717306     0.013283  100.16   \n",
       "\n",
       "                                                                            \\\n",
       "                               high       low   close   volume trade_count   \n",
       "timestamp                                                                    \n",
       "2020-04-13 04:00:00+00:00  117.1700  116.5308  116.70  5738262       24812   \n",
       "2020-04-14 04:00:00+00:00  117.0000  116.5850  116.76  5506671       23102   \n",
       "2020-04-15 04:00:00+00:00  117.3050  116.7100  117.24  4367410       19620   \n",
       "2020-04-16 04:00:00+00:00  117.5250  117.1900  117.39  4744716       16906   \n",
       "2020-04-17 04:00:00+00:00  117.6200  117.0350  117.25  4949824       25621   \n",
       "2023-04-06 04:00:00+00:00  100.6850  100.4400  100.44  6105185       23351   \n",
       "2023-04-10 04:00:00+00:00   99.9100   99.6000   99.75  4477958       21431   \n",
       "2023-04-11 04:00:00+00:00   99.8800   99.5900   99.81  4543803       19479   \n",
       "2023-04-12 04:00:00+00:00  100.2000   99.6100   99.93  7226122       33545   \n",
       "2023-04-13 04:00:00+00:00  100.2677   99.8050   99.89  3964799       18405   \n",
       "\n",
       "                                                    \n",
       "                                 vwap daily_return  \n",
       "timestamp                                           \n",
       "2020-04-13 04:00:00+00:00  116.845817          NaN  \n",
       "2020-04-14 04:00:00+00:00  116.766750     0.000514  \n",
       "2020-04-15 04:00:00+00:00  117.144915     0.004111  \n",
       "2020-04-16 04:00:00+00:00  117.399687     0.001279  \n",
       "2020-04-17 04:00:00+00:00  117.358347    -0.001193  \n",
       "2023-04-06 04:00:00+00:00  100.515057    -0.000895  \n",
       "2023-04-10 04:00:00+00:00   99.752952    -0.006870  \n",
       "2023-04-11 04:00:00+00:00   99.740336     0.000602  \n",
       "2023-04-12 04:00:00+00:00   99.885733     0.001202  \n",
       "2023-04-13 04:00:00+00:00   99.967812    -0.000400  "
      ]
     },
     "execution_count": 57,
     "metadata": {},
     "output_type": "execute_result"
    }
   ],
   "source": [
    "# Configure the Monte Carlo simulation to forecast 30 years cumulative returns\n",
    "# The weights should be split 40% to AGG and 60% to SPY.\n",
    "# Run 500 samples.\n",
    "MC_thirtyyear = MCSimulation(\n",
    "    portfolio_data = prices_df,\n",
    "    weights =[0.60,0.40],\n",
    "    num_simulation = 500,\n",
    "    num_trading_days =252*30\n",
    ")\n",
    "\n",
    "# Review the simulation input data\n",
    "pd.concat([MC_thirtyyear.portfolio_data.head(),\n",
    "           MC_thirtyyear.portfolio_data.tail()])"
   ]
  },
  {
   "cell_type": "code",
   "execution_count": 58,
   "metadata": {},
   "outputs": [
    {
     "name": "stdout",
     "output_type": "stream",
     "text": [
      "Running Monte Carlo simulation number 0.\n",
      "Running Monte Carlo simulation number 10.\n",
      "Running Monte Carlo simulation number 20.\n",
      "Running Monte Carlo simulation number 30.\n",
      "Running Monte Carlo simulation number 40.\n",
      "Running Monte Carlo simulation number 50.\n",
      "Running Monte Carlo simulation number 60.\n",
      "Running Monte Carlo simulation number 70.\n",
      "Running Monte Carlo simulation number 80.\n",
      "Running Monte Carlo simulation number 90.\n",
      "Running Monte Carlo simulation number 100.\n"
     ]
    },
    {
     "name": "stderr",
     "output_type": "stream",
     "text": [
      "C:\\FinTech-Workspace_root\\challenge_5\\challenge-05-042023\\Starter_Code\\MCForecastTools.py:117: PerformanceWarning: DataFrame is highly fragmented.  This is usually the result of calling `frame.insert` many times, which has poor performance.  Consider joining all columns at once using pd.concat(axis=1) instead.  To get a de-fragmented frame, use `newframe = frame.copy()`\n",
      "  portfolio_cumulative_returns[n] = (1 + sim_df.fillna(0)).cumprod()\n"
     ]
    },
    {
     "name": "stdout",
     "output_type": "stream",
     "text": [
      "Running Monte Carlo simulation number 110.\n",
      "Running Monte Carlo simulation number 120.\n",
      "Running Monte Carlo simulation number 130.\n",
      "Running Monte Carlo simulation number 140.\n",
      "Running Monte Carlo simulation number 150.\n",
      "Running Monte Carlo simulation number 160.\n",
      "Running Monte Carlo simulation number 170.\n",
      "Running Monte Carlo simulation number 180.\n",
      "Running Monte Carlo simulation number 190.\n",
      "Running Monte Carlo simulation number 200.\n",
      "Running Monte Carlo simulation number 210.\n",
      "Running Monte Carlo simulation number 220.\n",
      "Running Monte Carlo simulation number 230.\n",
      "Running Monte Carlo simulation number 240.\n",
      "Running Monte Carlo simulation number 250.\n",
      "Running Monte Carlo simulation number 260.\n",
      "Running Monte Carlo simulation number 270.\n",
      "Running Monte Carlo simulation number 280.\n",
      "Running Monte Carlo simulation number 290.\n",
      "Running Monte Carlo simulation number 300.\n",
      "Running Monte Carlo simulation number 310.\n",
      "Running Monte Carlo simulation number 320.\n",
      "Running Monte Carlo simulation number 330.\n",
      "Running Monte Carlo simulation number 340.\n",
      "Running Monte Carlo simulation number 350.\n",
      "Running Monte Carlo simulation number 360.\n",
      "Running Monte Carlo simulation number 370.\n",
      "Running Monte Carlo simulation number 380.\n",
      "Running Monte Carlo simulation number 390.\n",
      "Running Monte Carlo simulation number 400.\n",
      "Running Monte Carlo simulation number 410.\n",
      "Running Monte Carlo simulation number 420.\n",
      "Running Monte Carlo simulation number 430.\n",
      "Running Monte Carlo simulation number 440.\n",
      "Running Monte Carlo simulation number 450.\n",
      "Running Monte Carlo simulation number 460.\n",
      "Running Monte Carlo simulation number 470.\n",
      "Running Monte Carlo simulation number 480.\n",
      "Running Monte Carlo simulation number 490.\n"
     ]
    },
    {
     "data": {
      "text/html": [
       "<div>\n",
       "<style scoped>\n",
       "    .dataframe tbody tr th:only-of-type {\n",
       "        vertical-align: middle;\n",
       "    }\n",
       "\n",
       "    .dataframe tbody tr th {\n",
       "        vertical-align: top;\n",
       "    }\n",
       "\n",
       "    .dataframe thead th {\n",
       "        text-align: right;\n",
       "    }\n",
       "</style>\n",
       "<table border=\"1\" class=\"dataframe\">\n",
       "  <thead>\n",
       "    <tr style=\"text-align: right;\">\n",
       "      <th></th>\n",
       "      <th>0</th>\n",
       "      <th>1</th>\n",
       "      <th>2</th>\n",
       "      <th>3</th>\n",
       "      <th>4</th>\n",
       "      <th>5</th>\n",
       "      <th>6</th>\n",
       "      <th>7</th>\n",
       "      <th>8</th>\n",
       "      <th>9</th>\n",
       "      <th>...</th>\n",
       "      <th>490</th>\n",
       "      <th>491</th>\n",
       "      <th>492</th>\n",
       "      <th>493</th>\n",
       "      <th>494</th>\n",
       "      <th>495</th>\n",
       "      <th>496</th>\n",
       "      <th>497</th>\n",
       "      <th>498</th>\n",
       "      <th>499</th>\n",
       "    </tr>\n",
       "  </thead>\n",
       "  <tbody>\n",
       "    <tr>\n",
       "      <th>0</th>\n",
       "      <td>1.000000</td>\n",
       "      <td>1.000000</td>\n",
       "      <td>1.000000</td>\n",
       "      <td>1.000000</td>\n",
       "      <td>1.000000</td>\n",
       "      <td>1.000000</td>\n",
       "      <td>1.000000</td>\n",
       "      <td>1.000000</td>\n",
       "      <td>1.000000</td>\n",
       "      <td>1.000000</td>\n",
       "      <td>...</td>\n",
       "      <td>1.000000</td>\n",
       "      <td>1.000000</td>\n",
       "      <td>1.000000</td>\n",
       "      <td>1.000000</td>\n",
       "      <td>1.000000</td>\n",
       "      <td>1.000000</td>\n",
       "      <td>1.000000</td>\n",
       "      <td>1.000000</td>\n",
       "      <td>1.000000</td>\n",
       "      <td>1.000000</td>\n",
       "    </tr>\n",
       "    <tr>\n",
       "      <th>1</th>\n",
       "      <td>1.007083</td>\n",
       "      <td>1.014274</td>\n",
       "      <td>1.000371</td>\n",
       "      <td>1.007620</td>\n",
       "      <td>1.010699</td>\n",
       "      <td>1.011614</td>\n",
       "      <td>0.998853</td>\n",
       "      <td>1.003734</td>\n",
       "      <td>0.992339</td>\n",
       "      <td>0.999255</td>\n",
       "      <td>...</td>\n",
       "      <td>1.001447</td>\n",
       "      <td>1.015360</td>\n",
       "      <td>0.993967</td>\n",
       "      <td>1.005873</td>\n",
       "      <td>1.000983</td>\n",
       "      <td>0.999986</td>\n",
       "      <td>0.997109</td>\n",
       "      <td>0.999070</td>\n",
       "      <td>0.988968</td>\n",
       "      <td>1.004706</td>\n",
       "    </tr>\n",
       "    <tr>\n",
       "      <th>2</th>\n",
       "      <td>0.999259</td>\n",
       "      <td>1.003825</td>\n",
       "      <td>1.003009</td>\n",
       "      <td>1.005607</td>\n",
       "      <td>1.014361</td>\n",
       "      <td>0.995402</td>\n",
       "      <td>0.992971</td>\n",
       "      <td>1.008665</td>\n",
       "      <td>0.995939</td>\n",
       "      <td>0.998106</td>\n",
       "      <td>...</td>\n",
       "      <td>0.998869</td>\n",
       "      <td>1.006541</td>\n",
       "      <td>1.004827</td>\n",
       "      <td>1.006087</td>\n",
       "      <td>1.004057</td>\n",
       "      <td>1.000922</td>\n",
       "      <td>0.995309</td>\n",
       "      <td>1.006646</td>\n",
       "      <td>0.985733</td>\n",
       "      <td>1.013511</td>\n",
       "    </tr>\n",
       "    <tr>\n",
       "      <th>3</th>\n",
       "      <td>0.999421</td>\n",
       "      <td>1.003506</td>\n",
       "      <td>1.009237</td>\n",
       "      <td>0.999996</td>\n",
       "      <td>1.012616</td>\n",
       "      <td>0.990572</td>\n",
       "      <td>0.994510</td>\n",
       "      <td>1.010462</td>\n",
       "      <td>1.005435</td>\n",
       "      <td>1.008542</td>\n",
       "      <td>...</td>\n",
       "      <td>0.989799</td>\n",
       "      <td>1.004288</td>\n",
       "      <td>1.008035</td>\n",
       "      <td>1.000691</td>\n",
       "      <td>1.013582</td>\n",
       "      <td>0.999142</td>\n",
       "      <td>1.006472</td>\n",
       "      <td>0.993780</td>\n",
       "      <td>0.995278</td>\n",
       "      <td>1.013035</td>\n",
       "    </tr>\n",
       "    <tr>\n",
       "      <th>4</th>\n",
       "      <td>0.996828</td>\n",
       "      <td>0.996015</td>\n",
       "      <td>1.010450</td>\n",
       "      <td>1.008420</td>\n",
       "      <td>1.002403</td>\n",
       "      <td>0.984360</td>\n",
       "      <td>0.990053</td>\n",
       "      <td>1.010933</td>\n",
       "      <td>0.995209</td>\n",
       "      <td>1.004743</td>\n",
       "      <td>...</td>\n",
       "      <td>0.996893</td>\n",
       "      <td>1.010057</td>\n",
       "      <td>0.993731</td>\n",
       "      <td>0.989841</td>\n",
       "      <td>1.025017</td>\n",
       "      <td>1.014722</td>\n",
       "      <td>1.030494</td>\n",
       "      <td>0.985752</td>\n",
       "      <td>0.997150</td>\n",
       "      <td>1.002251</td>\n",
       "    </tr>\n",
       "    <tr>\n",
       "      <th>...</th>\n",
       "      <td>...</td>\n",
       "      <td>...</td>\n",
       "      <td>...</td>\n",
       "      <td>...</td>\n",
       "      <td>...</td>\n",
       "      <td>...</td>\n",
       "      <td>...</td>\n",
       "      <td>...</td>\n",
       "      <td>...</td>\n",
       "      <td>...</td>\n",
       "      <td>...</td>\n",
       "      <td>...</td>\n",
       "      <td>...</td>\n",
       "      <td>...</td>\n",
       "      <td>...</td>\n",
       "      <td>...</td>\n",
       "      <td>...</td>\n",
       "      <td>...</td>\n",
       "      <td>...</td>\n",
       "      <td>...</td>\n",
       "      <td>...</td>\n",
       "    </tr>\n",
       "    <tr>\n",
       "      <th>7556</th>\n",
       "      <td>10.656148</td>\n",
       "      <td>3.964202</td>\n",
       "      <td>8.447440</td>\n",
       "      <td>5.980954</td>\n",
       "      <td>8.828743</td>\n",
       "      <td>10.929729</td>\n",
       "      <td>4.204024</td>\n",
       "      <td>16.788267</td>\n",
       "      <td>8.719093</td>\n",
       "      <td>20.692133</td>\n",
       "      <td>...</td>\n",
       "      <td>5.161970</td>\n",
       "      <td>11.426197</td>\n",
       "      <td>8.999979</td>\n",
       "      <td>5.280959</td>\n",
       "      <td>12.095987</td>\n",
       "      <td>3.129311</td>\n",
       "      <td>9.571842</td>\n",
       "      <td>11.302950</td>\n",
       "      <td>10.387675</td>\n",
       "      <td>18.742787</td>\n",
       "    </tr>\n",
       "    <tr>\n",
       "      <th>7557</th>\n",
       "      <td>10.604528</td>\n",
       "      <td>3.975571</td>\n",
       "      <td>8.476185</td>\n",
       "      <td>5.951296</td>\n",
       "      <td>8.881552</td>\n",
       "      <td>11.006562</td>\n",
       "      <td>4.202518</td>\n",
       "      <td>16.502408</td>\n",
       "      <td>8.703891</td>\n",
       "      <td>20.568102</td>\n",
       "      <td>...</td>\n",
       "      <td>5.148677</td>\n",
       "      <td>11.482676</td>\n",
       "      <td>9.010562</td>\n",
       "      <td>5.266118</td>\n",
       "      <td>12.048220</td>\n",
       "      <td>3.132098</td>\n",
       "      <td>9.516703</td>\n",
       "      <td>11.454821</td>\n",
       "      <td>10.345942</td>\n",
       "      <td>18.861136</td>\n",
       "    </tr>\n",
       "    <tr>\n",
       "      <th>7558</th>\n",
       "      <td>10.628445</td>\n",
       "      <td>3.983387</td>\n",
       "      <td>8.457869</td>\n",
       "      <td>5.933967</td>\n",
       "      <td>8.842814</td>\n",
       "      <td>10.980598</td>\n",
       "      <td>4.201950</td>\n",
       "      <td>16.515059</td>\n",
       "      <td>8.822219</td>\n",
       "      <td>20.670217</td>\n",
       "      <td>...</td>\n",
       "      <td>5.156425</td>\n",
       "      <td>11.522641</td>\n",
       "      <td>9.007317</td>\n",
       "      <td>5.329531</td>\n",
       "      <td>11.985607</td>\n",
       "      <td>3.122618</td>\n",
       "      <td>9.423115</td>\n",
       "      <td>11.524567</td>\n",
       "      <td>10.460304</td>\n",
       "      <td>18.854298</td>\n",
       "    </tr>\n",
       "    <tr>\n",
       "      <th>7559</th>\n",
       "      <td>10.805331</td>\n",
       "      <td>3.945913</td>\n",
       "      <td>8.435220</td>\n",
       "      <td>5.915117</td>\n",
       "      <td>8.792360</td>\n",
       "      <td>10.953372</td>\n",
       "      <td>4.146447</td>\n",
       "      <td>16.528795</td>\n",
       "      <td>8.767499</td>\n",
       "      <td>20.624005</td>\n",
       "      <td>...</td>\n",
       "      <td>5.143790</td>\n",
       "      <td>11.452110</td>\n",
       "      <td>8.975058</td>\n",
       "      <td>5.324837</td>\n",
       "      <td>12.085875</td>\n",
       "      <td>3.137936</td>\n",
       "      <td>9.257847</td>\n",
       "      <td>11.506459</td>\n",
       "      <td>10.272125</td>\n",
       "      <td>18.660596</td>\n",
       "    </tr>\n",
       "    <tr>\n",
       "      <th>7560</th>\n",
       "      <td>10.871475</td>\n",
       "      <td>3.958436</td>\n",
       "      <td>8.315593</td>\n",
       "      <td>5.884020</td>\n",
       "      <td>8.806969</td>\n",
       "      <td>11.184129</td>\n",
       "      <td>4.163347</td>\n",
       "      <td>16.668834</td>\n",
       "      <td>8.722389</td>\n",
       "      <td>20.568511</td>\n",
       "      <td>...</td>\n",
       "      <td>5.189477</td>\n",
       "      <td>11.257722</td>\n",
       "      <td>8.899561</td>\n",
       "      <td>5.320749</td>\n",
       "      <td>12.233617</td>\n",
       "      <td>3.140012</td>\n",
       "      <td>9.262866</td>\n",
       "      <td>11.427205</td>\n",
       "      <td>10.161868</td>\n",
       "      <td>18.816325</td>\n",
       "    </tr>\n",
       "  </tbody>\n",
       "</table>\n",
       "<p>7561 rows × 500 columns</p>\n",
       "</div>"
      ],
      "text/plain": [
       "            0         1         2         3         4          5         6    \\\n",
       "0      1.000000  1.000000  1.000000  1.000000  1.000000   1.000000  1.000000   \n",
       "1      1.007083  1.014274  1.000371  1.007620  1.010699   1.011614  0.998853   \n",
       "2      0.999259  1.003825  1.003009  1.005607  1.014361   0.995402  0.992971   \n",
       "3      0.999421  1.003506  1.009237  0.999996  1.012616   0.990572  0.994510   \n",
       "4      0.996828  0.996015  1.010450  1.008420  1.002403   0.984360  0.990053   \n",
       "...         ...       ...       ...       ...       ...        ...       ...   \n",
       "7556  10.656148  3.964202  8.447440  5.980954  8.828743  10.929729  4.204024   \n",
       "7557  10.604528  3.975571  8.476185  5.951296  8.881552  11.006562  4.202518   \n",
       "7558  10.628445  3.983387  8.457869  5.933967  8.842814  10.980598  4.201950   \n",
       "7559  10.805331  3.945913  8.435220  5.915117  8.792360  10.953372  4.146447   \n",
       "7560  10.871475  3.958436  8.315593  5.884020  8.806969  11.184129  4.163347   \n",
       "\n",
       "            7         8          9    ...       490        491       492  \\\n",
       "0      1.000000  1.000000   1.000000  ...  1.000000   1.000000  1.000000   \n",
       "1      1.003734  0.992339   0.999255  ...  1.001447   1.015360  0.993967   \n",
       "2      1.008665  0.995939   0.998106  ...  0.998869   1.006541  1.004827   \n",
       "3      1.010462  1.005435   1.008542  ...  0.989799   1.004288  1.008035   \n",
       "4      1.010933  0.995209   1.004743  ...  0.996893   1.010057  0.993731   \n",
       "...         ...       ...        ...  ...       ...        ...       ...   \n",
       "7556  16.788267  8.719093  20.692133  ...  5.161970  11.426197  8.999979   \n",
       "7557  16.502408  8.703891  20.568102  ...  5.148677  11.482676  9.010562   \n",
       "7558  16.515059  8.822219  20.670217  ...  5.156425  11.522641  9.007317   \n",
       "7559  16.528795  8.767499  20.624005  ...  5.143790  11.452110  8.975058   \n",
       "7560  16.668834  8.722389  20.568511  ...  5.189477  11.257722  8.899561   \n",
       "\n",
       "           493        494       495       496        497        498        499  \n",
       "0     1.000000   1.000000  1.000000  1.000000   1.000000   1.000000   1.000000  \n",
       "1     1.005873   1.000983  0.999986  0.997109   0.999070   0.988968   1.004706  \n",
       "2     1.006087   1.004057  1.000922  0.995309   1.006646   0.985733   1.013511  \n",
       "3     1.000691   1.013582  0.999142  1.006472   0.993780   0.995278   1.013035  \n",
       "4     0.989841   1.025017  1.014722  1.030494   0.985752   0.997150   1.002251  \n",
       "...        ...        ...       ...       ...        ...        ...        ...  \n",
       "7556  5.280959  12.095987  3.129311  9.571842  11.302950  10.387675  18.742787  \n",
       "7557  5.266118  12.048220  3.132098  9.516703  11.454821  10.345942  18.861136  \n",
       "7558  5.329531  11.985607  3.122618  9.423115  11.524567  10.460304  18.854298  \n",
       "7559  5.324837  12.085875  3.137936  9.257847  11.506459  10.272125  18.660596  \n",
       "7560  5.320749  12.233617  3.140012  9.262866  11.427205  10.161868  18.816325  \n",
       "\n",
       "[7561 rows x 500 columns]"
      ]
     },
     "execution_count": 58,
     "metadata": {},
     "output_type": "execute_result"
    }
   ],
   "source": [
    "# Run the Monte Carlo simulation to forecast 30 years cumulative returns\n",
    "MC_thirtyyear.calc_cumulative_return()\n"
   ]
  },
  {
   "cell_type": "code",
   "execution_count": 59,
   "metadata": {},
   "outputs": [
    {
     "data": {
      "image/png": "[encoded data removed]",
      "text/plain": [
       "<Figure size 640x480 with 1 Axes>"
      ]
     },
     "metadata": {},
     "output_type": "display_data"
    }
   ],
   "source": [
    "# Visualize the 30-year Monte Carlo simulation by creating an\n",
    "# overlay line plot\n",
    "MC_sim_line_plot = MC_thirtyyear.plot_simulation()\n",
    "MC_sim_line_plot.get_figure().savefig(\"MC_thirtyyear_sim_plot.png\",bbox_inches = \"tight\")"
   ]
  },
  {
   "cell_type": "markdown",
   "metadata": {},
   "source": [
    "#### Step 3: Plot the probability distribution of the Monte Carlo simulation."
   ]
  },
  {
   "cell_type": "code",
   "execution_count": 61,
   "metadata": {},
   "outputs": [
    {
     "data": {
      "image/png": "[encoded data removed]",
      "text/plain": [
       "<Figure size 640x480 with 1 Axes>"
      ]
     },
     "metadata": {},
     "output_type": "display_data"
    }
   ],
   "source": [
    "# Visualize the probability distribution of the 30-year Monte Carlo simulation \n",
    "# by plotting a histogram\n",
    "MC_sim_dist_plot = MC_thirtyyear.plot_distribution()\n",
    "MC_sim_dist_plot.get_figure().savefig('MC_thirtyyear_dist_plot.png'\n"
   ]
  },
  {
   "cell_type": "markdown",
   "metadata": {},
   "source": [
    "#### Step 4: Generate the summary statistics for the Monte Carlo simulation."
   ]
  },
  {
   "cell_type": "code",
   "execution_count": 62,
   "metadata": {},
   "outputs": [
    {
     "name": "stdout",
     "output_type": "stream",
     "text": [
      "count           500.000000\n",
      "mean              8.829792\n",
      "std               6.560172\n",
      "min               1.097655\n",
      "25%               4.504782\n",
      "50%               7.183815\n",
      "75%              10.984810\n",
      "max              56.200070\n",
      "95% CI Lower      2.054804\n",
      "95% CI Upper     25.700211\n",
      "Name: 7560, dtype: float64\n"
     ]
    }
   ],
   "source": [
    "# Generate summary statistics from the 30-year Monte Carlo simulation results\n",
    "# Save the results as a variable\n",
    "MC_summary_statistics = MC_thirtyyear.summarize_cumulative_return()\n",
    "\n",
    "# Review the 30-year Monte Carlo summary statistics\n",
    "print(MC_summary_statistics)"
   ]
  },
  {
   "cell_type": "markdown",
   "metadata": {},
   "source": [
    "### Analyze the Retirement Portfolio Forecasts\n",
    "\n",
    "Using the current value of only the stock and bond portion of the member's portfolio and the summary statistics that you generated from the Monte Carlo simulation, answer the following question in your Jupyter notebook:\n",
    "\n",
    "-  What are the lower and upper bounds for the expected value of the portfolio with a 95% confidence interval?\n"
   ]
  },
  {
   "cell_type": "code",
   "execution_count": 67,
   "metadata": {},
   "outputs": [
    {
     "name": "stdout",
     "output_type": "stream",
     "text": [
      "$65,459.70\n"
     ]
    }
   ],
   "source": [
    "# Print the current balance of the stock and bond portion of the members portfolio\n",
    "print(f'${total_stocks_bonds:,.2f}')\n"
   ]
  },
  {
   "cell_type": "code",
   "execution_count": 72,
   "metadata": {},
   "outputs": [
    {
     "name": "stdout",
     "output_type": "stream",
     "text": [
      "There is a 95% chance that an initial investment of $65,459.70 in the portfolio over the next 30 years will end within in the range of $134,506.84 and $1,682,328.13.\n"
     ]
    }
   ],
   "source": [
    "# Use the lower and upper `95%` confidence intervals to calculate the range of the possible outcomes for the current stock/bond portfolio\n",
    "ci_lower_thirty_cumulative_return = MC_summary_statistics[8] * total_stocks_bonds\n",
    "ci_upper_thirty_cumulative_return =MC_summary_statistics[9] * total_stocks_bonds\n",
    "\n",
    "# Print the result of your calculations\n",
    "print(f\"There is a 95% chance that an initial investment of ${total_stocks_bonds:,.2f} in the portfolio\"\n",
    "    f\" over the next 30 years will end within in the range of\"\n",
    "    f\" ${ci_lower_thirty_cumulative_return:,.2f} and ${ci_upper_thirty_cumulative_return:,.2f}.\")\n"
   ]
  },
  {
   "cell_type": "markdown",
   "metadata": {},
   "source": [
    "### Forecast Cumulative Returns in 10 Years\n",
    "\n",
    "The CTO of the credit union is impressed with your work on these planning tools but wonders if 30 years is a long time to wait until retirement. So, your next task is to adjust the retirement portfolio and run a new Monte Carlo simulation to find out if the changes will allow members to retire earlier.\n",
    "\n",
    "For this new Monte Carlo simulation, do the following: \n",
    "\n",
    "- Forecast the cumulative returns for 10 years from now. Because of the shortened investment horizon (30 years to 10 years), the portfolio needs to invest more heavily in the riskier asset&mdash;that is, stock&mdash;to help accumulate wealth for retirement. \n",
    "\n",
    "- Adjust the weights of the retirement portfolio so that the composition for the Monte Carlo simulation consists of 20% bonds and 80% stocks. \n",
    "\n",
    "- Run the simulation over 500 samples, and use the same data that the API call to Alpaca generated.\n",
    "\n",
    "- Based on the new Monte Carlo simulation, answer the following questions in your Jupyter notebook:\n",
    "\n",
    "    - Using the current value of only the stock and bond portion of the member's portfolio and the summary statistics that you generated from the new Monte Carlo simulation, what are the lower and upper bounds for the expected value of the portfolio (with the new weights) with a 95% confidence interval?\n",
    "\n",
    "    - Will weighting the portfolio more heavily toward stocks allow the credit union members to retire after only 10 years?\n"
   ]
  },
  {
   "cell_type": "code",
   "execution_count": null,
   "metadata": {},
   "outputs": [],
   "source": [
    "# Configure a Monte Carlo simulation to forecast 10 years cumulative returns\n",
    "# The weights should be split 20% to AGG and 80% to SPY.\n",
    "# Run 500 samples.\n",
    "# YOUR CODE HERE\n",
    "\n",
    "# Review the simulation input data\n",
    "# YOUR CODE HERE\n"
   ]
  },
  {
   "cell_type": "code",
   "execution_count": null,
   "metadata": {},
   "outputs": [],
   "source": [
    "# Run the Monte Carlo simulation to forecast 10 years cumulative returns\n",
    "# YOUR CODE HERE\n"
   ]
  },
  {
   "cell_type": "code",
   "execution_count": null,
   "metadata": {},
   "outputs": [],
   "source": [
    "# Visualize the 10-year Monte Carlo simulation by creating an\n",
    "# overlay line plot\n",
    "# YOUR CODE HERE\n"
   ]
  },
  {
   "cell_type": "code",
   "execution_count": null,
   "metadata": {},
   "outputs": [],
   "source": [
    "# Visualize the probability distribution of the 10-year Monte Carlo simulation \n",
    "# by plotting a histogram\n",
    "# YOUR CODE HERE\n"
   ]
  },
  {
   "cell_type": "code",
   "execution_count": null,
   "metadata": {},
   "outputs": [],
   "source": [
    "# Generate summary statistics from the 10-year Monte Carlo simulation results\n",
    "# Save the results as a variable\n",
    "# YOUR CODE HERE\n",
    "\n",
    "\n",
    "# Review the 10-year Monte Carlo summary statistics\n",
    "# YOUR CODE HERE"
   ]
  },
  {
   "cell_type": "markdown",
   "metadata": {},
   "source": [
    "### Answer the following questions:"
   ]
  },
  {
   "cell_type": "markdown",
   "metadata": {},
   "source": [
    "#### Question: Using the current value of only the stock and bond portion of the member's portfolio and the summary statistics that you generated from the new Monte Carlo simulation, what are the lower and upper bounds for the expected value of the portfolio (with the new weights) with a 95% confidence interval?"
   ]
  },
  {
   "cell_type": "code",
   "execution_count": null,
   "metadata": {},
   "outputs": [],
   "source": [
    "# Print the current balance of the stock and bond portion of the members portfolio\n",
    "# YOUR CODE HERE\n"
   ]
  },
  {
   "cell_type": "code",
   "execution_count": null,
   "metadata": {},
   "outputs": [],
   "source": [
    "# Use the lower and upper `95%` confidence intervals to calculate the range of the possible outcomes for the current stock/bond portfolio\n",
    "ci_lower_ten_cumulative_return = # YOUR CODE HERE\n",
    "ci_upper_ten_cumulative_return = # YOUR CODE HERE\n",
    "\n",
    "# Print the result of your calculations\n",
    "# YOUR CODE HERE\n"
   ]
  },
  {
   "cell_type": "markdown",
   "metadata": {},
   "source": [
    "#### Question: Will weighting the portfolio more heavily to stocks allow the credit union members to retire after only 10 years?"
   ]
  },
  {
   "cell_type": "raw",
   "metadata": {},
   "source": [
    "**Answer** # YOUR ANSWER HERE"
   ]
  },
  {
   "cell_type": "code",
   "execution_count": null,
   "metadata": {},
   "outputs": [],
   "source": []
  }
 ],
 "metadata": {
  "kernelspec": {
   "display_name": "Python 3 (ipykernel)",
   "language": "python",
   "name": "python3"
  },
  "language_info": {
   "codemirror_mode": {
    "name": "ipython",
    "version": 3
   },
   "file_extension": ".py",
   "mimetype": "text/x-python",
   "name": "python",
   "nbconvert_exporter": "python",
   "pygments_lexer": "ipython3",
   "version": "3.7.13"
  }
 },
 "nbformat": 4,
 "nbformat_minor": 4
}
